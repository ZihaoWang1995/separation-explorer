{
 "cells": [
  {
   "cell_type": "markdown",
   "metadata": {},
   "source": [
    "This notebook will select isotherms in the required temperature range and with the desired adsorbates from the sqlite database where all the ISODB isotherms are stored. To run this notebook the root directory must be the main folder."
   ]
  },
  {
   "cell_type": "code",
   "execution_count": 2,
   "metadata": {},
   "outputs": [],
   "source": [
    "import warnings\n",
    "import numpy as np\n",
    "import pandas as pd\n",
    "import pygaps\n",
    "\n",
    "%cd .."
   ]
  },
  {
   "cell_type": "markdown",
   "metadata": {},
   "source": [
    "Get all isotherms"
   ]
  },
  {
   "cell_type": "code",
   "execution_count": 3,
   "metadata": {},
   "outputs": [
    {
     "name": "stdout",
     "output_type": "stream",
     "text": [
      "Selected 21261 isotherms\n",
      "Initial isotherms 21261\n"
     ]
    }
   ],
   "source": [
    "# Database location\n",
    "db_path = r\"./data/iso.db\"\n",
    "\n",
    "# Filter warnings to remove pygaps unit warning\n",
    "warnings.simplefilter('ignore')\n",
    "\n",
    "# Get all isotherms\n",
    "isotherms = pygaps.db_get_isotherms(db_path, {})\n",
    "\n",
    "print('Initial isotherms', len(isotherms))"
   ]
  },
  {
   "cell_type": "markdown",
   "metadata": {},
   "source": [
    "Perform rough sorting by removing isotherms without enough datapoints, and with too high/low pressure and temperature."
   ]
  },
  {
   "cell_type": "code",
   "execution_count": 4,
   "metadata": {},
   "outputs": [
    {
     "name": "stdout",
     "output_type": "stream",
     "text": [
      "Isotherms with enough points 20275\n",
      "After removing high pressure isotherms: 19700\n",
      "After removing low pressure isotherms: 18777\n",
      "After removing high loading isotherms: 16771\n",
      "After removing high temperature isotherms: 16652\n"
     ]
    }
   ],
   "source": [
    "\n",
    "isotherms = [i for i in isotherms if len(i.loading()) > 6]\n",
    "print('Isotherms with enough points', len(isotherms))\n",
    "\n",
    "isotherms = [i for i in isotherms if i.pressure()[-1] < 150]\n",
    "print('After removing high pressure isotherms:', len(isotherms))\n",
    "\n",
    "isotherms = [i for i in isotherms if i.pressure()[-1] > 0.05]\n",
    "print('After removing low pressure isotherms:', len(isotherms))\n",
    "\n",
    "isotherms = [i for i in isotherms if max(i.loading()) < 100]\n",
    "print('After removing high loading isotherms:', len(isotherms))\n",
    "\n",
    "isotherms = [i for i in isotherms if i.temperature < 423.15]\n",
    "print('After removing high temperature isotherms:', len(isotherms))\n"
   ]
  },
  {
   "cell_type": "markdown",
   "metadata": {},
   "source": [
    "Select isotherms with a subset of adsorbates and in a temperature range."
   ]
  },
  {
   "cell_type": "code",
   "execution_count": 5,
   "metadata": {},
   "outputs": [
    {
     "name": "stdout",
     "output_type": "stream",
     "text": [
      "Selected isotherms in T range: 5887\n"
     ]
    }
   ],
   "source": [
    "gases = [\n",
    "    'hydrogen', 'neon', 'argon', 'krypton', 'xenon',\n",
    "    'methane', 'ethane', 'ethene', 'acetylene',\n",
    "    'propane', 'propene',\n",
    "    'butane', 'isobutane',\n",
    "    '1-butene', 'cis-2-butene', 'trans-2-butene',\n",
    "    'isobutene',\n",
    "    'isopentane',\n",
    "    'carbon dioxide', 'sulphur dioxide', 'nitrogen dioxide',\n",
    "    'oxygen', 'carbon monoxide', 'nitrogen',\n",
    "    'benzene', 'toluene',\n",
    "    'water', 'methanol', 'ethanol', 'ammonia',\n",
    "]\n",
    "\n",
    "tmin = 292\n",
    "tmax = 313\n",
    "\n",
    "sel_isotherms = [i for i in isotherms if\n",
    "                 i.adsorbate in gases and\n",
    "                 tmin < i.temperature < tmax]\n",
    "print('Selected isotherms in T range:', len(sel_isotherms))\n"
   ]
  },
  {
   "cell_type": "markdown",
   "metadata": {},
   "source": [
    "Save all remaining isotherms as JSON files in the isotherm folder."
   ]
  },
  {
   "cell_type": "code",
   "execution_count": 6,
   "metadata": {},
   "outputs": [],
   "source": [
    "path = r\"./data/isotherms/\"\n",
    "for iso in sel_isotherms:\n",
    "    pygaps.isotherm_to_jsonf(iso, (path + iso.filename + '.json'))"
   ]
  }
 ],
 "metadata": {
  "file_extension": ".py",
  "kernelspec": {
   "display_name": "Python 3",
   "language": "python",
   "name": "python3"
  },
  "language_info": {
   "codemirror_mode": {
    "name": "ipython",
    "version": 3
   },
   "file_extension": ".py",
   "mimetype": "text/x-python",
   "name": "python",
   "nbconvert_exporter": "python",
   "pygments_lexer": "ipython3",
   "version": "3.7.3"
  },
  "mimetype": "text/x-python",
  "name": "python",
  "npconvert_exporter": "python",
  "pygments_lexer": "ipython3",
  "version": 3
 },
 "nbformat": 4,
 "nbformat_minor": 2
}
