{
 "cells": [
  {
   "cell_type": "markdown",
   "metadata": {},
   "source": [
    "This notebook will process isotherms selected previously to obtain KPI values."
   ]
  },
  {
   "cell_type": "code",
   "execution_count": 1,
   "metadata": {},
   "outputs": [
    {
     "name": "stdout",
     "output_type": "stream",
     "text": [
      "C:\\Users\\pauli\\git\\separation-explorer\n"
     ]
    }
   ],
   "source": [
    "import json\n",
    "from collections import Counter\n",
    "\n",
    "import matplotlib.pyplot as plt\n",
    "import numpy as np\n",
    "import pandas as pd\n",
    "from scipy import stats\n",
    "\n",
    "import pygaps\n",
    "\n",
    "%cd .."
   ]
  },
  {
   "cell_type": "markdown",
   "metadata": {},
   "source": [
    "Load isotherms from JSON files."
   ]
  },
  {
   "cell_type": "code",
   "execution_count": 3,
   "metadata": {},
   "outputs": [
    {
     "name": "stdout",
     "output_type": "stream",
     "text": [
      "Selected isotherms: 5755\n"
     ]
    }
   ],
   "source": [
    "iso_path = r\"./data/isotherms\"\n",
    "paths = pygaps.util_get_file_paths(iso_path, '.json')\n",
    "isotherms = [pygaps.isotherm_from_jsonf(path) for path in paths]\n",
    "print(\"Selected isotherms:\", len(isotherms))"
   ]
  },
  {
   "cell_type": "markdown",
   "metadata": {},
   "source": [
    "Compute Henry constant through two methods: initial slope and virial fitting."
   ]
  },
  {
   "cell_type": "code",
   "execution_count": 4,
   "metadata": {},
   "outputs": [
    {
     "name": "stderr",
     "output_type": "stream",
     "text": [
      "c:\\users\\pauli\\git\\pygaps\\src\\pygaps\\modelling\\virial.py:188: UserWarning: Removed points which are equal to 0.\n",
      "  warnings.warn('Removed points which are equal to 0.')\n"
     ]
    },
    {
     "name": "stdout",
     "output_type": "stream",
     "text": [
      "Isotherms with Henry constant: 5755\n"
     ]
    }
   ],
   "source": [
    "no_henry_slope = []\n",
    "no_henry_virial = []\n",
    "\n",
    "for index, iso in enumerate(isotherms):\n",
    "    try:\n",
    "        iso.henry_slope = pygaps.initial_henry_slope(iso)\n",
    "    except Exception as e:\n",
    "        iso.henry_slope = None\n",
    "        no_henry_slope.append(iso)\n",
    "\n",
    "    try:\n",
    "        iso.henry_virial = pygaps.initial_henry_virial(\n",
    "            iso, optimization_params=dict(add_point=True))\n",
    "    except Exception as e:\n",
    "        iso.henry_virial = None\n",
    "        no_henry_virial.append(iso)\n",
    "\n",
    "# Only use isotherms which have the henry constant (slope mehtod) calculated going forward\n",
    "isotherms = [iso for iso in isotherms if iso.henry_slope]\n",
    "print(\"Isotherms with Henry constant:\", len(isotherms))"
   ]
  },
  {
   "cell_type": "markdown",
   "metadata": {},
   "source": [
    "Compute uptake values on pre-determined pressures. Do not extrapolate above maximum range. If any value below minimum range, use Henry constant to compute loading."
   ]
  },
  {
   "cell_type": "code",
   "execution_count": 5,
   "metadata": {},
   "outputs": [],
   "source": [
    "no_loading_possible = []\n",
    "model_possible = []\n",
    "\n",
    "for index, iso in enumerate(isotherms):\n",
    "\n",
    "    iso.uptake = {}\n",
    "\n",
    "    prange = np.arange(0.5, 20.5, 0.5)\n",
    "    minp = min(iso.pressure(branch='ads'))\n",
    "    maxp = max(iso.pressure(branch='ads'))\n",
    "    model = [a for a in prange if a < minp]\n",
    "    direct = [a for a in prange if minp < a < maxp]\n",
    "\n",
    "    try:\n",
    "        for p in direct:\n",
    "            iso.uptake[p] = np.asscalar(iso.loading_at(p))\n",
    "    except Exception:\n",
    "        no_loading_possible.append(iso)\n",
    "        continue\n",
    "    # Take the data between 0 and x from the henry model\n",
    "    if model:\n",
    "        for p in model:\n",
    "            iso.uptake[p] = iso.henry_slope * p\n",
    "        model_possible.append(iso)\n",
    "\n",
    "    iso.uptake[0] = 0.  # we automatically include 0"
   ]
  },
  {
   "cell_type": "markdown",
   "metadata": {},
   "source": [
    "Construct dictionary with results on a material basis."
   ]
  },
  {
   "cell_type": "code",
   "execution_count": 7,
   "metadata": {},
   "outputs": [],
   "source": [
    "materials = {}\n",
    "\n",
    "gases = [\n",
    "    'hydrogen', 'neon', 'argon', 'krypton', 'xenon',\n",
    "    'methane', 'ethane', 'ethene', 'acetylene',\n",
    "    'propane', 'propene',\n",
    "    'butane', 'isobutane',\n",
    "    '1-butene', 'cis-2-butene', 'trans-2-butene',\n",
    "    'isobutene',\n",
    "    'isopentane',\n",
    "    'carbon dioxide', 'sulphur dioxide', 'nitrogen dioxide',\n",
    "    'oxygen', 'carbon monoxide', 'nitrogen',\n",
    "    'benzene', 'toluene',\n",
    "    'water', 'methanol', 'ethanol', 'ammonia',\n",
    "]\n",
    "\n",
    "for mat in Counter([i.material for i in isotherms]).keys():\n",
    "    materials[mat] = {\n",
    "        gas: {\n",
    "            'iso': [],\n",
    "            'Kh': [],\n",
    "            'L': []\n",
    "        } for gas in gases}\n",
    "\n",
    "for iso in isotherms:\n",
    "    materials[iso.material][iso.adsorbate]['iso'].append(iso.filename)\n",
    "    materials[iso.material][iso.adsorbate]['Kh'].append(iso.henry_slope)\n",
    "    materials[iso.material][iso.adsorbate]['L'].append(iso.uptake)"
   ]
  },
  {
   "cell_type": "markdown",
   "metadata": {},
   "source": [
    "Some outlier detection functions to be used later: gross outlier detection and interquartile outlier detection."
   ]
  },
  {
   "cell_type": "code",
   "execution_count": 8,
   "metadata": {},
   "outputs": [],
   "source": [
    "def kh_gross_outlier_rejection(a, l1=1e-7, l2=1e7):\n",
    "    return [i for i in a if l1 < i < l2 and not np.isnan(i)]\n",
    "\n",
    "\n",
    "def l_gross_outlier_rejection(a, l1=0, l2=1e7):\n",
    "    return [i for i in a if l1 <= i < l2 and not np.isnan(i)]\n",
    "\n",
    "\n",
    "def iqr_outlier_rejection(arr):\n",
    "    q75, q25 = np.nanpercentile(sorted(arr), [75, 25], interpolation='linear')\n",
    "    iqr = q75 - q25\n",
    "    l_b = q25 - (1.5 * iqr)\n",
    "    u_b = q75 + (1.5 * iqr)\n",
    "    return [a for a in arr if a > l_b and a < u_b]"
   ]
  },
  {
   "cell_type": "markdown",
   "metadata": {},
   "source": [
    "Outlier detection and median calculation for Henry constant."
   ]
  },
  {
   "cell_type": "code",
   "execution_count": 9,
   "metadata": {},
   "outputs": [],
   "source": [
    "for mat in materials:\n",
    "    for gas in gases:\n",
    "        K_hs = materials[mat][gas].get('Kh', None)\n",
    "        if K_hs is None:\n",
    "            materials[mat][gas]['mKh'] = np.nan\n",
    "            materials[mat][gas]['eKh'] = np.nan\n",
    "            materials[mat][gas]['lKh'] = np.nan\n",
    "\n",
    "        K_hs = kh_gross_outlier_rejection(K_hs)\n",
    "\n",
    "        if K_hs is None:\n",
    "            materials[mat][gas]['mKh'] = np.nan\n",
    "            materials[mat][gas]['eKh'] = np.nan\n",
    "            materials[mat][gas]['lKh'] = np.nan\n",
    "\n",
    "        nK_h = len(K_hs)\n",
    "        if nK_h == 0:\n",
    "            continue\n",
    "\n",
    "        if nK_h > 4:\n",
    "            K_hs = iqr_outlier_rejection(K_hs)\n",
    "            mK_h = np.median(K_hs)\n",
    "            eK_h = np.std(K_hs)\n",
    "        elif nK_h == 1:\n",
    "            mK_h = np.median(K_hs)\n",
    "            eK_h = 0\n",
    "        else:\n",
    "            mK_h = np.median(K_hs)\n",
    "            eK_h = np.std(K_hs)\n",
    "\n",
    "        materials[mat][gas]['mKh'] = mK_h\n",
    "        materials[mat][gas]['eKh'] = eK_h\n",
    "        materials[mat][gas]['lKh'] = nK_h"
   ]
  },
  {
   "cell_type": "markdown",
   "metadata": {},
   "source": [
    "Outlier detection and median calculation for uptake."
   ]
  },
  {
   "cell_type": "code",
   "execution_count": 10,
   "metadata": {},
   "outputs": [],
   "source": [
    "for mat in materials:\n",
    "    for gas in gases:\n",
    "\n",
    "        aL_s = materials[mat][gas].get('L', None)\n",
    "        if not aL_s:\n",
    "            materials[mat][gas]['mL'] = []\n",
    "            materials[mat][gas]['eL'] = []\n",
    "            materials[mat][gas]['lL'] = []\n",
    "            continue\n",
    "\n",
    "        pdL_s = pd.DataFrame(aL_s)\n",
    "\n",
    "        materials[mat][gas]['mL'] = [0]\n",
    "        materials[mat][gas]['eL'] = [0]\n",
    "        materials[mat][gas]['lL'] = [0]\n",
    "\n",
    "        for p in np.arange(0.5, 20.5, 0.5):\n",
    "            try:\n",
    "                L_s = l_gross_outlier_rejection(pdL_s[p])\n",
    "                if L_s is None:\n",
    "                    continue\n",
    "            except Exception:\n",
    "                continue\n",
    "\n",
    "            nL_s = len(L_s)\n",
    "            if nL_s == 0:\n",
    "                materials[mat][gas]['mL'].append(np.nan)\n",
    "                materials[mat][gas]['eL'].append(np.nan)\n",
    "                materials[mat][gas]['lL'].append(np.nan)\n",
    "                continue\n",
    "\n",
    "            if nL_s > 4:\n",
    "                L_s = iqr_outlier_rejection(L_s)\n",
    "                mL_s = np.median(L_s)\n",
    "                eL_s = np.std(L_s)\n",
    "            elif nL_s == 1:\n",
    "                mL_s = np.median(L_s)\n",
    "                eL_s = 0\n",
    "            else:\n",
    "                mL_s = np.median(L_s)\n",
    "                eL_s = np.std(L_s)\n",
    "\n",
    "            materials[mat][gas]['mL'].append(mL_s)\n",
    "            materials[mat][gas]['eL'].append(eL_s)\n",
    "            materials[mat][gas]['lL'].append(nL_s)"
   ]
  },
  {
   "cell_type": "markdown",
   "metadata": {},
   "source": [
    "Save the resulting json file."
   ]
  },
  {
   "cell_type": "code",
   "execution_count": 11,
   "metadata": {},
   "outputs": [],
   "source": [
    "save_path = r\"./data/kpis.json\"\n",
    "with open(save_path, 'w') as file:\n",
    "    json.dump(materials, file)"
   ]
  },
  {
   "cell_type": "code",
   "execution_count": null,
   "metadata": {},
   "outputs": [],
   "source": []
  }
 ],
 "metadata": {
  "file_extension": ".py",
  "kernelspec": {
   "display_name": "Python 3",
   "language": "python",
   "name": "python3"
  },
  "language_info": {
   "codemirror_mode": {
    "name": "ipython",
    "version": 3
   },
   "file_extension": ".py",
   "mimetype": "text/x-python",
   "name": "python",
   "nbconvert_exporter": "python",
   "pygments_lexer": "ipython3",
   "version": "3.7.3"
  },
  "mimetype": "text/x-python",
  "name": "python",
  "npconvert_exporter": "python",
  "pygments_lexer": "ipython3",
  "version": 3
 },
 "nbformat": 4,
 "nbformat_minor": 2
}
