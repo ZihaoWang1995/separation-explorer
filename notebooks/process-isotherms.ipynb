{
 "cells": [
  {
   "cell_type": "markdown",
   "metadata": {},
   "source": [
    "# Isotherm processing\n",
    "\n",
    "This notebook will process isotherms selected previously to generate KPI values for each one. To run this notebook the root directory must be the main folder."
   ]
  },
  {
   "cell_type": "code",
   "execution_count": 3,
   "metadata": {},
   "outputs": [],
   "source": [
    "import json\n",
    "import pathlib\n",
    "import pickle\n",
    "from collections import Counter\n",
    "\n",
    "from tqdm import tqdm\n",
    "import matplotlib.pyplot as plt\n",
    "import numpy as np\n",
    "import pandas as pd\n",
    "from scipy import stats\n",
    "\n",
    "import pygaps"
   ]
  },
  {
   "cell_type": "code",
   "execution_count": 28,
   "metadata": {},
   "outputs": [
    {
     "name": "stderr",
     "output_type": "stream",
     "text": "WARNING: 'pressure_unit' was not specified, assumed as 'bar'\nWARNING: 'pressure_mode' was not specified, assumed as 'absolute'\nWARNING: 'adsorbent_unit' was not specified, assumed as 'g'\nWARNING: 'adsorbent_basis' was not specified, assumed as 'mass'\nWARNING: 'loading_unit' was not specified, assumed as 'mmol'\nWARNING: 'loading_basis' was not specified, assumed as 'molar'\nSelected20913isotherms\nLoaded 20913 isotherms.\n"
    }
   ],
   "source": [
    "# Database location\n",
    "db_path = pathlib.Path.cwd() / \"data\" / \"iso.db\"\n",
    "\n",
    "# Get all isotherms\n",
    "isotherms = pygaps.db_get_isotherms(db_path, {})\n",
    "\n",
    "print(f'Loaded {len(isotherms)} isotherms.')"
   ]
  },
  {
   "cell_type": "markdown",
   "metadata": {},
   "source": [
    "Load isotherms from JSON files."
   ]
  },
  {
   "cell_type": "code",
   "execution_count": 3,
   "metadata": {},
   "outputs": [
    {
     "name": "stdout",
     "output_type": "stream",
     "text": [
      "Selected isotherms: 5755\n"
     ]
    }
   ],
   "source": [
    "iso_path = r\"./data/isotherms\"\n",
    "paths = pygaps.util_get_file_paths(iso_path, '.json')\n",
    "isotherms = [pygaps.isotherm_from_jsonf(path) for path in paths]\n",
    "print(\"Selected isotherms:\", len(isotherms))"
   ]
  },
  {
   "cell_type": "markdown",
   "metadata": {},
   "source": [
    "Compute uptake values on pre-determined pressures. Do not extrapolate above maximum range. If any value below minimum range, use Henry constant to compute loading."
   ]
  },
  {
   "cell_type": "code",
   "execution_count": 30,
   "metadata": {},
   "outputs": [
    {
     "name": "stderr",
     "output_type": "stream",
     "text": "0%|          | 0/20913 [00:00<?, ?it/s]C:\\Users\\pauli\\Miniconda3\\envs\\dscience\\lib\\site-packages\\ipykernel_launcher.py:16: DeprecationWarning: np.asscalar(a) is deprecated since NumPy v1.16, use a.item() instead\n  app.launch_new_instance()\n100%|██████████| 20913/20913 [01:53<00:00, 183.56it/s]\n"
    }
   ],
   "source": [
    "no_loading_possible = []\n",
    "model_possible = []\n",
    "\n",
    "for iso in tqdm(isotherms):\n",
    "\n",
    "    iso.uptake = {}\n",
    "\n",
    "    prange = np.arange(0.5, 20.5, 0.5)\n",
    "    minp = min(iso.pressure(branch='ads'))\n",
    "    maxp = max(iso.pressure(branch='ads'))\n",
    "    model = [a for a in prange if a < minp]\n",
    "    direct = [a for a in prange if minp < a < maxp]\n",
    "\n",
    "    try:\n",
    "        for p in direct:\n",
    "            iso.uptake[p] = np.asscalar(iso.loading_at(p))\n",
    "    except Exception:\n",
    "        no_loading_possible.append(iso)\n",
    "        continue\n",
    "    # Take the data between 0 and x from the henry model\n",
    "    if model:\n",
    "        for p in model:\n",
    "            iso.uptake[p] = iso.henry_k * p\n",
    "        model_possible.append(iso)\n",
    "\n",
    "    iso.uptake[0] = 0.  # we automatically include 0"
   ]
  },
  {
   "cell_type": "code",
   "execution_count": 31,
   "metadata": {},
   "outputs": [
    {
     "name": "stderr",
     "output_type": "stream",
     "text": "100%|██████████| 20913/20913 [00:00<00:00, 40234.00it/s]\nC:\\Users\\pauli\\Miniconda3\\envs\\dscience\\lib\\site-packages\\pandas\\io\\pytables.py:278: PerformanceWarning: \nyour performance may suffer as PyTables will pickle object types that it cannot\nmap directly to c-types [inferred_type->mixed,key->axis0] [items->None]\n\n  f(store)\nC:\\Users\\pauli\\Miniconda3\\envs\\dscience\\lib\\site-packages\\pandas\\io\\pytables.py:278: PerformanceWarning: \nyour performance may suffer as PyTables will pickle object types that it cannot\nmap directly to c-types [inferred_type->mixed,key->block0_items] [items->None]\n\n  f(store)\n"
    }
   ],
   "source": [
    "simple_dict = {}\n",
    "\n",
    "for iso in tqdm(isotherms):\n",
    "\n",
    "    addition = {\n",
    "        'mat' : iso.material,\n",
    "        'ads' : str(iso.adsorbate),\n",
    "        't' : iso.temperature,\n",
    "        'type' : iso.iso_type,\n",
    "        'kH' : np.log(iso.henry_k),\n",
    "    }\n",
    "    for p in np.arange(0.5, 20.5, 0.5):\n",
    "\n",
    "        addition[p] = iso.uptake.get(p, None)\n",
    "\n",
    "    simple_dict[iso.filename] = addition\n",
    "\n",
    "df = pd.DataFrame.from_dict(simple_dict, orient='index')\n",
    "df.to_hdf(pathlib.Path.cwd() / 'data' / 'kpi.h5', 'table', mode='w')"
   ]
  },
  {
   "cell_type": "markdown",
   "execution_count": null,
   "metadata": {},
   "outputs": [],
   "source": [
    "## New methods"
   ]
  },
  {
   "cell_type": "code",
   "execution_count": 252,
   "metadata": {},
   "outputs": [],
   "source": [
    "df = pd.read_hdf(pathlib.Path.cwd() / 'data' / 'kpi.h5', 'table')"
   ]
  },
  {
   "cell_type": "code",
   "execution_count": 371,
   "metadata": {},
   "outputs": [
    {
     "name": "stderr",
     "output_type": "stream",
     "text": "C:\\Users\\pauli\\Miniconda3\\envs\\dscience\\lib\\site-packages\\pandas\\io\\pytables.py:278: PerformanceWarning: \nyour performance may suffer as PyTables will pickle object types that it cannot\nmap directly to c-types [inferred_type->mixed,key->axis0] [items->None]\n\n  f(store)\nC:\\Users\\pauli\\Miniconda3\\envs\\dscience\\lib\\site-packages\\pandas\\io\\pytables.py:278: PerformanceWarning: \nyour performance may suffer as PyTables will pickle object types that it cannot\nmap directly to c-types [inferred_type->mixed,key->block0_items] [items->None]\n\n  f(store)\n"
    }
   ],
   "source": [
    "df.sample(n=500, random_state=1).to_hdf(pathlib.Path.cwd() / 'data' / 'kpi-smol.h5', 'table', mode='w')"
   ]
  },
  {
   "cell_type": "code",
   "execution_count": 253,
   "metadata": {},
   "outputs": [
    {
     "data": {
      "text/plain": "4413"
     },
     "execution_count": 253,
     "metadata": {},
     "output_type": "execute_result"
    }
   ],
   "source": [
    "len(df['mat'].unique())"
   ]
  },
  {
   "cell_type": "code",
   "execution_count": 254,
   "metadata": {},
   "outputs": [
    {
     "name": "stdout",
     "output_type": "stream",
     "text": "756\n1459\n"
    }
   ],
   "source": [
    "# select on experiment\n",
    "select = None\n",
    "if select:\n",
    "    dft = df[df['type']==select]\n",
    "else:\n",
    "    dft = df\n",
    "\n",
    "# select on temperature\n",
    "t_val = 303\n",
    "t_mar = 10\n",
    "dft = dft[dft['t'].between(t_val - t_mar, t_val + t_mar)]\n",
    "\n",
    "# create two clean dataframes with only material\n",
    "g1 = dft[dft['ads'] == 'nitrogen'].drop(['type', 't', 'ads'], axis=1).reset_index()\n",
    "g2 = dft[dft['ads'] == 'carbon dioxide'].drop(['type', 't', 'ads'], axis=1).reset_index()\n",
    "\n",
    "# select only common materials\n",
    "common = list(set(g1['mat'].unique()).intersection(g2['mat'].unique()))\n",
    "g1 = g1[g1['mat'].isin(common)]\n",
    "g2 = g2[g2['mat'].isin(common)]\n",
    "\n",
    "print(len(g1))\n",
    "print(len(g2))"
   ]
  },
  {
   "cell_type": "code",
   "execution_count": 21,
   "metadata": {},
   "outputs": [
    {
     "data": {
      "text/html": "<div>\n<style scoped>\n    .dataframe tbody tr th:only-of-type {\n        vertical-align: middle;\n    }\n\n    .dataframe tbody tr th {\n        vertical-align: top;\n    }\n\n    .dataframe thead tr th {\n        text-align: left;\n    }\n\n    .dataframe thead tr:last-of-type th {\n        text-align: right;\n    }\n</style>\n<table border=\"1\" class=\"dataframe\">\n  <thead>\n    <tr>\n      <th></th>\n      <th colspan=\"3\" halign=\"left\">kH_1</th>\n      <th colspan=\"3\" halign=\"left\">0.5_1</th>\n      <th colspan=\"3\" halign=\"left\">1.0_1</th>\n      <th>1.5_1</th>\n      <th>...</th>\n      <th>18.5_2</th>\n      <th colspan=\"3\" halign=\"left\">19.0_2</th>\n      <th colspan=\"3\" halign=\"left\">19.5_2</th>\n      <th colspan=\"3\" halign=\"left\">20.0_2</th>\n    </tr>\n    <tr>\n      <th></th>\n      <th>len</th>\n      <th>median</th>\n      <th>std</th>\n      <th>len</th>\n      <th>median</th>\n      <th>std</th>\n      <th>len</th>\n      <th>median</th>\n      <th>std</th>\n      <th>len</th>\n      <th>...</th>\n      <th>std</th>\n      <th>len</th>\n      <th>median</th>\n      <th>std</th>\n      <th>len</th>\n      <th>median</th>\n      <th>std</th>\n      <th>len</th>\n      <th>median</th>\n      <th>std</th>\n    </tr>\n    <tr>\n      <th>mat</th>\n      <th></th>\n      <th></th>\n      <th></th>\n      <th></th>\n      <th></th>\n      <th></th>\n      <th></th>\n      <th></th>\n      <th></th>\n      <th></th>\n      <th></th>\n      <th></th>\n      <th></th>\n      <th></th>\n      <th></th>\n      <th></th>\n      <th></th>\n      <th></th>\n      <th></th>\n      <th></th>\n      <th></th>\n    </tr>\n  </thead>\n  <tbody>\n    <tr>\n      <th>(Hbzza)2]*H2O*C2H5OH</th>\n      <td>2.0</td>\n      <td>0.526242</td>\n      <td>0.398136</td>\n      <td>2.0</td>\n      <td>0.255987</td>\n      <td>0.18608</td>\n      <td>2.0</td>\n      <td>0.373966</td>\n      <td>0.270588</td>\n      <td>2.0</td>\n      <td>...</td>\n      <td>NaN</td>\n      <td>2.0</td>\n      <td>NaN</td>\n      <td>NaN</td>\n      <td>2.0</td>\n      <td>NaN</td>\n      <td>NaN</td>\n      <td>2.0</td>\n      <td>NaN</td>\n      <td>NaN</td>\n    </tr>\n    <tr>\n      <th>1-pyr</th>\n      <td>1.0</td>\n      <td>0.109336</td>\n      <td>NaN</td>\n      <td>1.0</td>\n      <td>0.001275</td>\n      <td>NaN</td>\n      <td>1.0</td>\n      <td>NaN</td>\n      <td>NaN</td>\n      <td>1.0</td>\n      <td>...</td>\n      <td>0.06397</td>\n      <td>2.0</td>\n      <td>0.447293</td>\n      <td>0.06353</td>\n      <td>2.0</td>\n      <td>0.452599</td>\n      <td>0.064166</td>\n      <td>2.0</td>\n      <td>0.457905</td>\n      <td>0.064803</td>\n    </tr>\n    <tr>\n      <th>1K-HKUST-1</th>\n      <td>1.0</td>\n      <td>0.001533</td>\n      <td>NaN</td>\n      <td>1.0</td>\n      <td>0.000767</td>\n      <td>NaN</td>\n      <td>1.0</td>\n      <td>0.001533</td>\n      <td>NaN</td>\n      <td>1.0</td>\n      <td>...</td>\n      <td>NaN</td>\n      <td>1.0</td>\n      <td>NaN</td>\n      <td>NaN</td>\n      <td>1.0</td>\n      <td>NaN</td>\n      <td>NaN</td>\n      <td>1.0</td>\n      <td>NaN</td>\n      <td>NaN</td>\n    </tr>\n    <tr>\n      <th>2% -COOH Functionalized CMK-5 d = 6nm</th>\n      <td>1.0</td>\n      <td>0.037498</td>\n      <td>NaN</td>\n      <td>1.0</td>\n      <td>0.018749</td>\n      <td>NaN</td>\n      <td>1.0</td>\n      <td>0.024696</td>\n      <td>NaN</td>\n      <td>1.0</td>\n      <td>...</td>\n      <td>NaN</td>\n      <td>1.0</td>\n      <td>4.775230</td>\n      <td>NaN</td>\n      <td>1.0</td>\n      <td>4.863173</td>\n      <td>NaN</td>\n      <td>1.0</td>\n      <td>4.951117</td>\n      <td>NaN</td>\n    </tr>\n    <tr>\n      <th>2% -COOH Functionalized CMK-5 d = 8nm</th>\n      <td>1.0</td>\n      <td>0.035366</td>\n      <td>NaN</td>\n      <td>1.0</td>\n      <td>0.017683</td>\n      <td>NaN</td>\n      <td>1.0</td>\n      <td>0.012973</td>\n      <td>NaN</td>\n      <td>1.0</td>\n      <td>...</td>\n      <td>NaN</td>\n      <td>1.0</td>\n      <td>4.530185</td>\n      <td>NaN</td>\n      <td>1.0</td>\n      <td>4.598165</td>\n      <td>NaN</td>\n      <td>1.0</td>\n      <td>4.666145</td>\n      <td>NaN</td>\n    </tr>\n    <tr>\n      <th>...</th>\n      <td>...</td>\n      <td>...</td>\n      <td>...</td>\n      <td>...</td>\n      <td>...</td>\n      <td>...</td>\n      <td>...</td>\n      <td>...</td>\n      <td>...</td>\n      <td>...</td>\n      <td>...</td>\n      <td>...</td>\n      <td>...</td>\n      <td>...</td>\n      <td>...</td>\n      <td>...</td>\n      <td>...</td>\n      <td>...</td>\n      <td>...</td>\n      <td>...</td>\n      <td>...</td>\n    </tr>\n    <tr>\n      <th>{Ag3[Ag5(mu3-3,5-tBu2tz)6](BF4)2}n</th>\n      <td>1.0</td>\n      <td>0.023694</td>\n      <td>NaN</td>\n      <td>1.0</td>\n      <td>0.015326</td>\n      <td>NaN</td>\n      <td>1.0</td>\n      <td>0.033717</td>\n      <td>NaN</td>\n      <td>1.0</td>\n      <td>...</td>\n      <td>NaN</td>\n      <td>2.0</td>\n      <td>NaN</td>\n      <td>NaN</td>\n      <td>2.0</td>\n      <td>NaN</td>\n      <td>NaN</td>\n      <td>2.0</td>\n      <td>NaN</td>\n      <td>NaN</td>\n    </tr>\n    <tr>\n      <th>{[Co(dcpy)(bipy)0.5(H2O)]*H2O}</th>\n      <td>1.0</td>\n      <td>0.379619</td>\n      <td>NaN</td>\n      <td>1.0</td>\n      <td>0.090265</td>\n      <td>NaN</td>\n      <td>1.0</td>\n      <td>NaN</td>\n      <td>NaN</td>\n      <td>1.0</td>\n      <td>...</td>\n      <td>NaN</td>\n      <td>1.0</td>\n      <td>NaN</td>\n      <td>NaN</td>\n      <td>1.0</td>\n      <td>NaN</td>\n      <td>NaN</td>\n      <td>1.0</td>\n      <td>NaN</td>\n      <td>NaN</td>\n    </tr>\n    <tr>\n      <th>{[Ni(Hptz)2] 7H2O}n</th>\n      <td>1.0</td>\n      <td>3.832100</td>\n      <td>NaN</td>\n      <td>1.0</td>\n      <td>0.059726</td>\n      <td>NaN</td>\n      <td>1.0</td>\n      <td>0.114385</td>\n      <td>NaN</td>\n      <td>1.0</td>\n      <td>...</td>\n      <td>NaN</td>\n      <td>1.0</td>\n      <td>NaN</td>\n      <td>NaN</td>\n      <td>1.0</td>\n      <td>NaN</td>\n      <td>NaN</td>\n      <td>1.0</td>\n      <td>NaN</td>\n      <td>NaN</td>\n    </tr>\n    <tr>\n      <th>{[Zn(bpydb)(bpy)](DMA)-(EtOH)6}n</th>\n      <td>1.0</td>\n      <td>0.480174</td>\n      <td>NaN</td>\n      <td>1.0</td>\n      <td>0.163045</td>\n      <td>NaN</td>\n      <td>1.0</td>\n      <td>0.299617</td>\n      <td>NaN</td>\n      <td>1.0</td>\n      <td>...</td>\n      <td>NaN</td>\n      <td>1.0</td>\n      <td>1.048936</td>\n      <td>NaN</td>\n      <td>1.0</td>\n      <td>1.062156</td>\n      <td>NaN</td>\n      <td>1.0</td>\n      <td>1.075377</td>\n      <td>NaN</td>\n    </tr>\n    <tr>\n      <th>{[Zn4(BDC)4(BPDA)4]*5DMF*3H2O}</th>\n      <td>1.0</td>\n      <td>0.206778</td>\n      <td>NaN</td>\n      <td>1.0</td>\n      <td>0.063057</td>\n      <td>NaN</td>\n      <td>1.0</td>\n      <td>0.204486</td>\n      <td>NaN</td>\n      <td>1.0</td>\n      <td>...</td>\n      <td>NaN</td>\n      <td>1.0</td>\n      <td>3.311009</td>\n      <td>NaN</td>\n      <td>1.0</td>\n      <td>3.319580</td>\n      <td>NaN</td>\n      <td>1.0</td>\n      <td>3.328151</td>\n      <td>NaN</td>\n    </tr>\n  </tbody>\n</table>\n<p>352 rows × 246 columns</p>\n</div>",
      "text/plain": "                                      kH_1                     0.5_1  \\\n                                       len    median       std   len   \nmat                                                                    \n(Hbzza)2]*H2O*C2H5OH                   2.0  0.526242  0.398136   2.0   \n1-pyr                                  1.0  0.109336       NaN   1.0   \n1K-HKUST-1                             1.0  0.001533       NaN   1.0   \n2% -COOH Functionalized CMK-5 d = 6nm  1.0  0.037498       NaN   1.0   \n2% -COOH Functionalized CMK-5 d = 8nm  1.0  0.035366       NaN   1.0   \n...                                    ...       ...       ...   ...   \n{Ag3[Ag5(mu3-3,5-tBu2tz)6](BF4)2}n     1.0  0.023694       NaN   1.0   \n{[Co(dcpy)(bipy)0.5(H2O)]*H2O}         1.0  0.379619       NaN   1.0   \n{[Ni(Hptz)2] 7H2O}n                    1.0  3.832100       NaN   1.0   \n{[Zn(bpydb)(bpy)](DMA)-(EtOH)6}n       1.0  0.480174       NaN   1.0   \n{[Zn4(BDC)4(BPDA)4]*5DMF*3H2O}         1.0  0.206778       NaN   1.0   \n\n                                                         1.0_1            \\\n                                         median      std   len    median   \nmat                                                                        \n(Hbzza)2]*H2O*C2H5OH                   0.255987  0.18608   2.0  0.373966   \n1-pyr                                  0.001275      NaN   1.0       NaN   \n1K-HKUST-1                             0.000767      NaN   1.0  0.001533   \n2% -COOH Functionalized CMK-5 d = 6nm  0.018749      NaN   1.0  0.024696   \n2% -COOH Functionalized CMK-5 d = 8nm  0.017683      NaN   1.0  0.012973   \n...                                         ...      ...   ...       ...   \n{Ag3[Ag5(mu3-3,5-tBu2tz)6](BF4)2}n     0.015326      NaN   1.0  0.033717   \n{[Co(dcpy)(bipy)0.5(H2O)]*H2O}         0.090265      NaN   1.0       NaN   \n{[Ni(Hptz)2] 7H2O}n                    0.059726      NaN   1.0  0.114385   \n{[Zn(bpydb)(bpy)](DMA)-(EtOH)6}n       0.163045      NaN   1.0  0.299617   \n{[Zn4(BDC)4(BPDA)4]*5DMF*3H2O}         0.063057      NaN   1.0  0.204486   \n\n                                                1.5_1  ...   18.5_2 19.0_2  \\\n                                            std   len  ...      std    len   \nmat                                                    ...                   \n(Hbzza)2]*H2O*C2H5OH                   0.270588   2.0  ...      NaN    2.0   \n1-pyr                                       NaN   1.0  ...  0.06397    2.0   \n1K-HKUST-1                                  NaN   1.0  ...      NaN    1.0   \n2% -COOH Functionalized CMK-5 d = 6nm       NaN   1.0  ...      NaN    1.0   \n2% -COOH Functionalized CMK-5 d = 8nm       NaN   1.0  ...      NaN    1.0   \n...                                         ...   ...  ...      ...    ...   \n{Ag3[Ag5(mu3-3,5-tBu2tz)6](BF4)2}n          NaN   1.0  ...      NaN    2.0   \n{[Co(dcpy)(bipy)0.5(H2O)]*H2O}              NaN   1.0  ...      NaN    1.0   \n{[Ni(Hptz)2] 7H2O}n                         NaN   1.0  ...      NaN    1.0   \n{[Zn(bpydb)(bpy)](DMA)-(EtOH)6}n            NaN   1.0  ...      NaN    1.0   \n{[Zn4(BDC)4(BPDA)4]*5DMF*3H2O}              NaN   1.0  ...      NaN    1.0   \n\n                                                         19.5_2            \\\n                                         median      std    len    median   \nmat                                                                         \n(Hbzza)2]*H2O*C2H5OH                        NaN      NaN    2.0       NaN   \n1-pyr                                  0.447293  0.06353    2.0  0.452599   \n1K-HKUST-1                                  NaN      NaN    1.0       NaN   \n2% -COOH Functionalized CMK-5 d = 6nm  4.775230      NaN    1.0  4.863173   \n2% -COOH Functionalized CMK-5 d = 8nm  4.530185      NaN    1.0  4.598165   \n...                                         ...      ...    ...       ...   \n{Ag3[Ag5(mu3-3,5-tBu2tz)6](BF4)2}n          NaN      NaN    2.0       NaN   \n{[Co(dcpy)(bipy)0.5(H2O)]*H2O}              NaN      NaN    1.0       NaN   \n{[Ni(Hptz)2] 7H2O}n                         NaN      NaN    1.0       NaN   \n{[Zn(bpydb)(bpy)](DMA)-(EtOH)6}n       1.048936      NaN    1.0  1.062156   \n{[Zn4(BDC)4(BPDA)4]*5DMF*3H2O}         3.311009      NaN    1.0  3.319580   \n\n                                                20.0_2                      \n                                            std    len    median       std  \nmat                                                                         \n(Hbzza)2]*H2O*C2H5OH                        NaN    2.0       NaN       NaN  \n1-pyr                                  0.064166    2.0  0.457905  0.064803  \n1K-HKUST-1                                  NaN    1.0       NaN       NaN  \n2% -COOH Functionalized CMK-5 d = 6nm       NaN    1.0  4.951117       NaN  \n2% -COOH Functionalized CMK-5 d = 8nm       NaN    1.0  4.666145       NaN  \n...                                         ...    ...       ...       ...  \n{Ag3[Ag5(mu3-3,5-tBu2tz)6](BF4)2}n          NaN    2.0       NaN       NaN  \n{[Co(dcpy)(bipy)0.5(H2O)]*H2O}              NaN    1.0       NaN       NaN  \n{[Ni(Hptz)2] 7H2O}n                         NaN    1.0       NaN       NaN  \n{[Zn(bpydb)(bpy)](DMA)-(EtOH)6}n            NaN    1.0  1.075377       NaN  \n{[Zn4(BDC)4(BPDA)4]*5DMF*3H2O}              NaN    1.0  3.328151       NaN  \n\n[352 rows x 246 columns]"
     },
     "execution_count": 21,
     "metadata": {},
     "output_type": "execute_result"
    }
   ],
   "source": [
    "def no_mean(x):\n",
    "    return np.mean(x)\n",
    "\n",
    "grouped1 = g1.groupby('mat')\n",
    "grouped2 = g2.groupby('mat')\n",
    "\n",
    "def iqr(x):    \n",
    "    q75, q25 = np.nanpercentile(sorted(x), [75, 25], interpolation='linear')\n",
    "    iqr = q75 - q25\n",
    "    l_b = q25 - (1.5 * iqr)\n",
    "    u_b = q75 + (1.5 * iqr)\n",
    "\n",
    "    Q1 = df['nb'].quantile(0.25)\n",
    "    Q3 = df['nb'].quantile(0.75)\n",
    "    IQR = Q3 - Q1\n",
    "\n",
    "\n",
    "group1 = grouped1.aggregate([len, np.median, np.std])\n",
    "group2 = grouped2.aggregate([len, np.median, np.std])\n",
    "\n",
    "# grouped1.aggregate(\n",
    "#     nKh=pd.NamedAgg(column='kH', aggfunc=len),\n",
    "#     mKh=pd.NamedAgg(column='kH', aggfunc=np.mean),\n",
    "#     eKh=pd.NamedAgg(column='kH', aggfunc=no_mean),\n",
    "#     p1=pd.NamedAgg(column='kH', aggfunc=np.sum),\n",
    "#     )\n",
    "\n",
    "# grouped1.get_group('CuBTC')\n",
    "\n",
    "group1.merge(group2, on=('mat'), suffixes=('_1', '_2'))"
   ]
  },
  {
   "cell_type": "code",
   "execution_count": 146,
   "metadata": {},
   "outputs": [
    {
     "name": "stdout",
     "output_type": "stream",
     "text": "6.32 ms ± 373 µs per loop (mean ± std. dev. of 7 runs, 100 loops each)\n"
    }
   ],
   "source": [
    "test = pd.DataFrame({'iso': ['a', 'b', 'c', 'd', 'e', 'f', 'g', 'h', 'i', 'k'],\n",
    "                   'mat': ['co2', 'co2', 'co2', 'n2', 'co2', 'n2', 'ch4', 'n2', 'co2', 'co2'],\n",
    "                   'kH': np.random.randn(10)})\n",
    "\n",
    "def func(x):\n",
    "\n",
    "    l = len(x)\n",
    "\n",
    "    if l == 1:\n",
    "        return float(x)\n",
    "\n",
    "    if l == 2:\n",
    "        return np.average(x)\n",
    "\n",
    "    elif 2 < l <= 4:\n",
    "        return np.average(x)\n",
    "\n",
    "    elif 4 < l:\n",
    "\n",
    "        # Computing IQR\n",
    "        Q3, Q1 = np.nanpercentile(sorted(x), [75, 25], interpolation='linear')\n",
    "        IQR = Q3 - Q1\n",
    "                \n",
    "        return np.mean((Q1 - 1.5 * IQR < x ) | ( x > Q3 + 1.5 * IQR))\n",
    "\n",
    "    else:\n",
    "        raise Exception('Not good.')\n",
    "\n",
    "# print(test)\n",
    "test.groupby('mat').agg(func)"
   ]
  },
  {
   "cell_type": "code",
   "execution_count": 305,
   "metadata": {},
   "outputs": [
    {
     "data": {
      "text/plain": "array([-1,  0,  1,  2])"
     },
     "execution_count": 305,
     "metadata": {},
     "output_type": "execute_result"
    }
   ],
   "source": [
    "np.array([0,1,2,3]) - np.array([1,1,1,1])"
   ]
  },
  {
   "cell_type": "code",
   "execution_count": 301,
   "metadata": {},
   "outputs": [
    {
     "name": "stdout",
     "output_type": "stream",
     "text": "--- 29.64663791656494 seconds ---\n"
    }
   ],
   "source": [
    "def process(x):\n",
    "\n",
    "    no_nan = x.dropna()\n",
    "\n",
    "    l = len(no_nan)\n",
    "    \n",
    "    if l == 0:\n",
    "        return (0, np.nan, 0)\n",
    "\n",
    "    elif l == 1:\n",
    "        return (1, float(no_nan), 0)\n",
    "\n",
    "    elif l == 2:\n",
    "        return (l, np.average(no_nan), np.std(no_nan))\n",
    "\n",
    "    elif 2 < l <= 4:\n",
    "        return (l, np.average(no_nan), np.std(no_nan))\n",
    "\n",
    "    elif 4 < l:\n",
    "        Q1 = no_nan.quantile(0.25)\n",
    "        Q3 = no_nan.quantile(0.75)\n",
    "        IQR = Q3 - Q1\n",
    "        \n",
    "        removed = no_nan[(Q1 - 1.5 * IQR < no_nan) & ( no_nan < Q3 + 1.5 * IQR)]\n",
    "\n",
    "        return (len(removed), np.mean(removed), np.std(removed))\n",
    "\n",
    "    else:\n",
    "        raise Exception\n",
    "\n",
    "import time\n",
    "start_time = time.time()\n",
    "\n",
    "final = pd.merge(dft[dft['ads'] == 'nitrogen'].drop(\n",
    "            ['type', 't', 'ads'], axis=1).reset_index().groupby('mat', sort=False).agg(process),\n",
    "         dft[dft['ads'] == 'carbon dioxide'].drop(\n",
    "            ['type', 't', 'ads'], axis=1).reset_index().groupby('mat', sort=False).agg(process),\n",
    "            on=('mat'), suffixes=('_x', '_y'))\n",
    "\n",
    "print(\"--- %s seconds ---\" % (time.time() - start_time))"
   ]
  },
  {
   "cell_type": "code",
   "execution_count": 331,
   "metadata": {},
   "outputs": [
    {
     "data": {
      "text/plain": "array([2, 2, 3])"
     },
     "execution_count": 331,
     "metadata": {},
     "output_type": "execute_result"
    }
   ],
   "source": [
    "a = (0, 1, 3)\n",
    "b = (2, 2, 2)\n",
    "\n",
    "np.array(list(max(elem[0], elem[1]) for elem in zip(a, b)))"
   ]
  },
  {
   "cell_type": "code",
   "execution_count": 362,
   "metadata": {},
   "outputs": [],
   "source": [
    "lp, p1, p2 = 0.5, 1, 5\n",
    "\n",
    "K_nx = np.array([e[0] for e in final['kH_x']])\n",
    "K_x = np.array([e[1] for e in final['kH_x']])\n",
    "K_ny = np.array([e[0] for e in final['kH_y']])\n",
    "K_y = np.array([e[2] for e in final['kH_y']])\n",
    "K_n = K_nx + K_ny\n",
    "\n",
    "L_nx = np.array([e[0] for e in final['{0:.1f}_x'.format(lp)]])\n",
    "L_x = np.array([e[1] for e in final['{0:.1f}_x'.format(lp)]])\n",
    "L_ny = np.array([e[0] for e in final['{0:.1f}_y'.format(lp)]])\n",
    "L_y = np.array([e[1] for e in final['{0:.1f}_y'.format(lp)]])\n",
    "L_n = L_nx + L_ny\n",
    "\n",
    "W_nx1 = np.array([e[0] for e in final['{0:.1f}_x'.format(p1)]])\n",
    "W_x1 = np.array([e[1] for e in final['{0:.1f}_x'.format(p1)]])\n",
    "W_nx2 = np.array([e[0] for e in final['{0:.1f}_x'.format(p2)]])\n",
    "W_x2 = np.array([e[1] for e in final['{0:.1f}_x'.format(p2)]])\n",
    "W_ny1 = np.array([e[0] for e in final['{0:.1f}_y'.format(p1)]])\n",
    "W_y1 = np.array([e[1] for e in final['{0:.1f}_y'.format(p1)]])\n",
    "W_ny2 = np.array([e[0] for e in final['{0:.1f}_y'.format(p2)]])\n",
    "W_y2 = np.array([e[1] for e in final['{0:.1f}_y'.format(p2)]])\n",
    "\n",
    "W_x = W_x2 - W_x1\n",
    "W_y = W_y2 - W_y1\n",
    "W_nx = np.maximum(W_nx1, W_nx2)\n",
    "W_ny = np.maximum(W_ny1, W_ny2)\n",
    "W_n = W_nx + W_ny\n",
    "\n",
    "sel = K_y / K_x\n",
    "psa_W = (K_y / W_x) * sel\n",
    "\n",
    "ret_dict = {\n",
    "    'labels': final.index,\n",
    "\n",
    "    # parameters\n",
    "    'sel': sel,\n",
    "    'psa_W': psa_W,\n",
    "\n",
    "    # Henry data\n",
    "    'K_x': K_x, 'K_y': K_y,\n",
    "    'K_nx': K_nx, 'K_ny': K_ny, 'K_n': K_n,\n",
    "\n",
    "    # Loading data\n",
    "    'L_x': L_x, 'L_y': L_y,\n",
    "    'L_nx': L_nx, 'L_ny': L_ny, 'L_n': L_n,\n",
    "\n",
    "    # Working capacity data\n",
    "    'W_x': W_x, 'W_y': W_y,\n",
    "    'W_nx': W_nx, 'W_ny': W_ny, 'W_n': W_n,\n",
    "}\n"
   ]
  },
  {
   "cell_type": "code",
   "execution_count": 367,
   "metadata": {},
   "outputs": [
    {
     "data": {
      "text/plain": "0.36256445419738215"
     },
     "execution_count": 367,
     "metadata": {},
     "output_type": "execute_result"
    }
   ],
   "source": [
    "final.loc['CuBTC', 'kH_x'][2]"
   ]
  },
  {
   "cell_type": "code",
   "execution_count": 261,
   "metadata": {},
   "outputs": [
    {
     "data": {
      "text/plain": "<matplotlib.axes._subplots.AxesSubplot at 0x23dec855ec8>"
     },
     "execution_count": 261,
     "metadata": {},
     "output_type": "execute_result"
    },
    {
     "data": {
      "image/png": "[encoded data removed]",
      "image/svg+xml": "<?xml version=\"1.0\" encoding=\"utf-8\" standalone=\"no\"?>\r\n<!DOCTYPE svg PUBLIC \"-//W3C//DTD SVG 1.1//EN\"\r\n  \"http://www.w3.org/Graphics/SVG/1.1/DTD/svg11.dtd\">\r\n<!-- Created with matplotlib (https://matplotlib.org/) -->\r\n<svg height=\"248.518125pt\" version=\"1.1\" viewBox=\"0 0 368.925 248.518125\" width=\"368.925pt\" xmlns=\"http://www.w3.org/2000/svg\" xmlns:xlink=\"http://www.w3.org/1999/xlink\">\r\n <defs>\r\n  <style type=\"text/css\">\r\n*{stroke-linecap:butt;stroke-linejoin:round;}\r\n  </style>\r\n </defs>\r\n <g id=\"figure_1\">\r\n  <g id=\"patch_1\">\r\n   <path d=\"M -0 248.518125 \r\nL 368.925 248.518125 \r\nL 368.925 0 \r\nL -0 0 \r\nz\r\n\" style=\"fill:none;\"/>\r\n  </g>\r\n  <g id=\"axes_1\">\r\n   <g id=\"patch_2\">\r\n    <path d=\"M 26.925 224.64 \r\nL 361.725 224.64 \r\nL 361.725 7.2 \r\nL 26.925 7.2 \r\nz\r\n\" style=\"fill:#ffffff;\"/>\r\n   </g>\r\n   <g id=\"patch_3\">\r\n    <path clip-path=\"url(#p3920685034)\" d=\"M 42.143182 224.64 \r\nL 48.230455 224.64 \r\nL 48.230455 211.697143 \r\nL 42.143182 211.697143 \r\nz\r\n\" style=\"fill:#1f77b4;\"/>\r\n   </g>\r\n   <g id=\"patch_4\">\r\n    <path clip-path=\"url(#p3920685034)\" d=\"M 48.230455 224.64 \r\nL 54.317727 224.64 \r\nL 54.317727 224.64 \r\nL 48.230455 224.64 \r\nz\r\n\" style=\"fill:#1f77b4;\"/>\r\n   </g>\r\n   <g id=\"patch_5\">\r\n    <path clip-path=\"url(#p3920685034)\" d=\"M 54.317727 224.64 \r\nL 60.405 224.64 \r\nL 60.405 224.64 \r\nL 54.317727 224.64 \r\nz\r\n\" style=\"fill:#1f77b4;\"/>\r\n   </g>\r\n   <g id=\"patch_6\">\r\n    <path clip-path=\"url(#p3920685034)\" d=\"M 60.405 224.64 \r\nL 66.492273 224.64 \r\nL 66.492273 224.64 \r\nL 60.405 224.64 \r\nz\r\n\" style=\"fill:#1f77b4;\"/>\r\n   </g>\r\n   <g id=\"patch_7\">\r\n    <path clip-path=\"url(#p3920685034)\" d=\"M 66.492273 224.64 \r\nL 72.579545 224.64 \r\nL 72.579545 224.64 \r\nL 66.492273 224.64 \r\nz\r\n\" style=\"fill:#1f77b4;\"/>\r\n   </g>\r\n   <g id=\"patch_8\">\r\n    <path clip-path=\"url(#p3920685034)\" d=\"M 72.579545 224.64 \r\nL 78.666818 224.64 \r\nL 78.666818 224.64 \r\nL 72.579545 224.64 \r\nz\r\n\" style=\"fill:#1f77b4;\"/>\r\n   </g>\r\n   <g id=\"patch_9\">\r\n    <path clip-path=\"url(#p3920685034)\" d=\"M 78.666818 224.64 \r\nL 84.754091 224.64 \r\nL 84.754091 224.64 \r\nL 78.666818 224.64 \r\nz\r\n\" style=\"fill:#1f77b4;\"/>\r\n   </g>\r\n   <g id=\"patch_10\">\r\n    <path clip-path=\"url(#p3920685034)\" d=\"M 84.754091 224.64 \r\nL 90.841364 224.64 \r\nL 90.841364 211.697143 \r\nL 84.754091 211.697143 \r\nz\r\n\" style=\"fill:#1f77b4;\"/>\r\n   </g>\r\n   <g id=\"patch_11\">\r\n    <path clip-path=\"url(#p3920685034)\" d=\"M 90.841364 224.64 \r\nL 96.928636 224.64 \r\nL 96.928636 224.64 \r\nL 90.841364 224.64 \r\nz\r\n\" style=\"fill:#1f77b4;\"/>\r\n   </g>\r\n   <g id=\"patch_12\">\r\n    <path clip-path=\"url(#p3920685034)\" d=\"M 96.928636 224.64 \r\nL 103.015909 224.64 \r\nL 103.015909 224.64 \r\nL 96.928636 224.64 \r\nz\r\n\" style=\"fill:#1f77b4;\"/>\r\n   </g>\r\n   <g id=\"patch_13\">\r\n    <path clip-path=\"url(#p3920685034)\" d=\"M 103.015909 224.64 \r\nL 109.103182 224.64 \r\nL 109.103182 224.64 \r\nL 103.015909 224.64 \r\nz\r\n\" style=\"fill:#1f77b4;\"/>\r\n   </g>\r\n   <g id=\"patch_14\">\r\n    <path clip-path=\"url(#p3920685034)\" d=\"M 109.103182 224.64 \r\nL 115.190455 224.64 \r\nL 115.190455 211.697143 \r\nL 109.103182 211.697143 \r\nz\r\n\" style=\"fill:#1f77b4;\"/>\r\n   </g>\r\n   <g id=\"patch_15\">\r\n    <path clip-path=\"url(#p3920685034)\" d=\"M 115.190455 224.64 \r\nL 121.277727 224.64 \r\nL 121.277727 224.64 \r\nL 115.190455 224.64 \r\nz\r\n\" style=\"fill:#1f77b4;\"/>\r\n   </g>\r\n   <g id=\"patch_16\">\r\n    <path clip-path=\"url(#p3920685034)\" d=\"M 121.277727 224.64 \r\nL 127.365 224.64 \r\nL 127.365 224.64 \r\nL 121.277727 224.64 \r\nz\r\n\" style=\"fill:#1f77b4;\"/>\r\n   </g>\r\n   <g id=\"patch_17\">\r\n    <path clip-path=\"url(#p3920685034)\" d=\"M 127.365 224.64 \r\nL 133.452273 224.64 \r\nL 133.452273 198.754286 \r\nL 127.365 198.754286 \r\nz\r\n\" style=\"fill:#1f77b4;\"/>\r\n   </g>\r\n   <g id=\"patch_18\">\r\n    <path clip-path=\"url(#p3920685034)\" d=\"M 133.452273 224.64 \r\nL 139.539545 224.64 \r\nL 139.539545 198.754286 \r\nL 133.452273 198.754286 \r\nz\r\n\" style=\"fill:#1f77b4;\"/>\r\n   </g>\r\n   <g id=\"patch_19\">\r\n    <path clip-path=\"url(#p3920685034)\" d=\"M 139.539545 224.64 \r\nL 145.626818 224.64 \r\nL 145.626818 224.64 \r\nL 139.539545 224.64 \r\nz\r\n\" style=\"fill:#1f77b4;\"/>\r\n   </g>\r\n   <g id=\"patch_20\">\r\n    <path clip-path=\"url(#p3920685034)\" d=\"M 145.626818 224.64 \r\nL 151.714091 224.64 \r\nL 151.714091 172.868571 \r\nL 145.626818 172.868571 \r\nz\r\n\" style=\"fill:#1f77b4;\"/>\r\n   </g>\r\n   <g id=\"patch_21\">\r\n    <path clip-path=\"url(#p3920685034)\" d=\"M 151.714091 224.64 \r\nL 157.801364 224.64 \r\nL 157.801364 95.211429 \r\nL 151.714091 95.211429 \r\nz\r\n\" style=\"fill:#1f77b4;\"/>\r\n   </g>\r\n   <g id=\"patch_22\">\r\n    <path clip-path=\"url(#p3920685034)\" d=\"M 157.801364 224.64 \r\nL 163.888636 224.64 \r\nL 163.888636 17.554286 \r\nL 157.801364 17.554286 \r\nz\r\n\" style=\"fill:#1f77b4;\"/>\r\n   </g>\r\n   <g id=\"patch_23\">\r\n    <path clip-path=\"url(#p3920685034)\" d=\"M 163.888636 224.64 \r\nL 169.975909 224.64 \r\nL 169.975909 95.211429 \r\nL 163.888636 95.211429 \r\nz\r\n\" style=\"fill:#1f77b4;\"/>\r\n   </g>\r\n   <g id=\"patch_24\">\r\n    <path clip-path=\"url(#p3920685034)\" d=\"M 169.975909 224.64 \r\nL 176.063182 224.64 \r\nL 176.063182 185.811429 \r\nL 169.975909 185.811429 \r\nz\r\n\" style=\"fill:#1f77b4;\"/>\r\n   </g>\r\n   <g id=\"patch_25\">\r\n    <path clip-path=\"url(#p3920685034)\" d=\"M 176.063182 224.64 \r\nL 182.150455 224.64 \r\nL 182.150455 224.64 \r\nL 176.063182 224.64 \r\nz\r\n\" style=\"fill:#1f77b4;\"/>\r\n   </g>\r\n   <g id=\"patch_26\">\r\n    <path clip-path=\"url(#p3920685034)\" d=\"M 182.150455 224.64 \r\nL 188.237727 224.64 \r\nL 188.237727 224.64 \r\nL 182.150455 224.64 \r\nz\r\n\" style=\"fill:#1f77b4;\"/>\r\n   </g>\r\n   <g id=\"patch_27\">\r\n    <path clip-path=\"url(#p3920685034)\" d=\"M 188.237727 224.64 \r\nL 194.325 224.64 \r\nL 194.325 185.811429 \r\nL 188.237727 185.811429 \r\nz\r\n\" style=\"fill:#1f77b4;\"/>\r\n   </g>\r\n   <g id=\"patch_28\">\r\n    <path clip-path=\"url(#p3920685034)\" d=\"M 194.325 224.64 \r\nL 200.412273 224.64 \r\nL 200.412273 211.697143 \r\nL 194.325 211.697143 \r\nz\r\n\" style=\"fill:#1f77b4;\"/>\r\n   </g>\r\n   <g id=\"patch_29\">\r\n    <path clip-path=\"url(#p3920685034)\" d=\"M 200.412273 224.64 \r\nL 206.499545 224.64 \r\nL 206.499545 224.64 \r\nL 200.412273 224.64 \r\nz\r\n\" style=\"fill:#1f77b4;\"/>\r\n   </g>\r\n   <g id=\"patch_30\">\r\n    <path clip-path=\"url(#p3920685034)\" d=\"M 206.499545 224.64 \r\nL 212.586818 224.64 \r\nL 212.586818 211.697143 \r\nL 206.499545 211.697143 \r\nz\r\n\" style=\"fill:#1f77b4;\"/>\r\n   </g>\r\n   <g id=\"patch_31\">\r\n    <path clip-path=\"url(#p3920685034)\" d=\"M 212.586818 224.64 \r\nL 218.674091 224.64 \r\nL 218.674091 224.64 \r\nL 212.586818 224.64 \r\nz\r\n\" style=\"fill:#1f77b4;\"/>\r\n   </g>\r\n   <g id=\"patch_32\">\r\n    <path clip-path=\"url(#p3920685034)\" d=\"M 218.674091 224.64 \r\nL 224.761364 224.64 \r\nL 224.761364 211.697143 \r\nL 218.674091 211.697143 \r\nz\r\n\" style=\"fill:#1f77b4;\"/>\r\n   </g>\r\n   <g id=\"patch_33\">\r\n    <path clip-path=\"url(#p3920685034)\" d=\"M 224.761364 224.64 \r\nL 230.848636 224.64 \r\nL 230.848636 211.697143 \r\nL 224.761364 211.697143 \r\nz\r\n\" style=\"fill:#1f77b4;\"/>\r\n   </g>\r\n   <g id=\"patch_34\">\r\n    <path clip-path=\"url(#p3920685034)\" d=\"M 230.848636 224.64 \r\nL 236.935909 224.64 \r\nL 236.935909 224.64 \r\nL 230.848636 224.64 \r\nz\r\n\" style=\"fill:#1f77b4;\"/>\r\n   </g>\r\n   <g id=\"patch_35\">\r\n    <path clip-path=\"url(#p3920685034)\" d=\"M 236.935909 224.64 \r\nL 243.023182 224.64 \r\nL 243.023182 224.64 \r\nL 236.935909 224.64 \r\nz\r\n\" style=\"fill:#1f77b4;\"/>\r\n   </g>\r\n   <g id=\"patch_36\">\r\n    <path clip-path=\"url(#p3920685034)\" d=\"M 243.023182 224.64 \r\nL 249.110455 224.64 \r\nL 249.110455 224.64 \r\nL 243.023182 224.64 \r\nz\r\n\" style=\"fill:#1f77b4;\"/>\r\n   </g>\r\n   <g id=\"patch_37\">\r\n    <path clip-path=\"url(#p3920685034)\" d=\"M 249.110455 224.64 \r\nL 255.197727 224.64 \r\nL 255.197727 224.64 \r\nL 249.110455 224.64 \r\nz\r\n\" style=\"fill:#1f77b4;\"/>\r\n   </g>\r\n   <g id=\"patch_38\">\r\n    <path clip-path=\"url(#p3920685034)\" d=\"M 255.197727 224.64 \r\nL 261.285 224.64 \r\nL 261.285 224.64 \r\nL 255.197727 224.64 \r\nz\r\n\" style=\"fill:#1f77b4;\"/>\r\n   </g>\r\n   <g id=\"patch_39\">\r\n    <path clip-path=\"url(#p3920685034)\" d=\"M 261.285 224.64 \r\nL 267.372273 224.64 \r\nL 267.372273 224.64 \r\nL 261.285 224.64 \r\nz\r\n\" style=\"fill:#1f77b4;\"/>\r\n   </g>\r\n   <g id=\"patch_40\">\r\n    <path clip-path=\"url(#p3920685034)\" d=\"M 267.372273 224.64 \r\nL 273.459545 224.64 \r\nL 273.459545 224.64 \r\nL 267.372273 224.64 \r\nz\r\n\" style=\"fill:#1f77b4;\"/>\r\n   </g>\r\n   <g id=\"patch_41\">\r\n    <path clip-path=\"url(#p3920685034)\" d=\"M 273.459545 224.64 \r\nL 279.546818 224.64 \r\nL 279.546818 224.64 \r\nL 273.459545 224.64 \r\nz\r\n\" style=\"fill:#1f77b4;\"/>\r\n   </g>\r\n   <g id=\"patch_42\">\r\n    <path clip-path=\"url(#p3920685034)\" d=\"M 279.546818 224.64 \r\nL 285.634091 224.64 \r\nL 285.634091 224.64 \r\nL 279.546818 224.64 \r\nz\r\n\" style=\"fill:#1f77b4;\"/>\r\n   </g>\r\n   <g id=\"patch_43\">\r\n    <path clip-path=\"url(#p3920685034)\" d=\"M 285.634091 224.64 \r\nL 291.721364 224.64 \r\nL 291.721364 224.64 \r\nL 285.634091 224.64 \r\nz\r\n\" style=\"fill:#1f77b4;\"/>\r\n   </g>\r\n   <g id=\"patch_44\">\r\n    <path clip-path=\"url(#p3920685034)\" d=\"M 291.721364 224.64 \r\nL 297.808636 224.64 \r\nL 297.808636 224.64 \r\nL 291.721364 224.64 \r\nz\r\n\" style=\"fill:#1f77b4;\"/>\r\n   </g>\r\n   <g id=\"patch_45\">\r\n    <path clip-path=\"url(#p3920685034)\" d=\"M 297.808636 224.64 \r\nL 303.895909 224.64 \r\nL 303.895909 224.64 \r\nL 297.808636 224.64 \r\nz\r\n\" style=\"fill:#1f77b4;\"/>\r\n   </g>\r\n   <g id=\"patch_46\">\r\n    <path clip-path=\"url(#p3920685034)\" d=\"M 303.895909 224.64 \r\nL 309.983182 224.64 \r\nL 309.983182 211.697143 \r\nL 303.895909 211.697143 \r\nz\r\n\" style=\"fill:#1f77b4;\"/>\r\n   </g>\r\n   <g id=\"patch_47\">\r\n    <path clip-path=\"url(#p3920685034)\" d=\"M 309.983182 224.64 \r\nL 316.070455 224.64 \r\nL 316.070455 224.64 \r\nL 309.983182 224.64 \r\nz\r\n\" style=\"fill:#1f77b4;\"/>\r\n   </g>\r\n   <g id=\"patch_48\">\r\n    <path clip-path=\"url(#p3920685034)\" d=\"M 316.070455 224.64 \r\nL 322.157727 224.64 \r\nL 322.157727 224.64 \r\nL 316.070455 224.64 \r\nz\r\n\" style=\"fill:#1f77b4;\"/>\r\n   </g>\r\n   <g id=\"patch_49\">\r\n    <path clip-path=\"url(#p3920685034)\" d=\"M 322.157727 224.64 \r\nL 328.245 224.64 \r\nL 328.245 224.64 \r\nL 322.157727 224.64 \r\nz\r\n\" style=\"fill:#1f77b4;\"/>\r\n   </g>\r\n   <g id=\"patch_50\">\r\n    <path clip-path=\"url(#p3920685034)\" d=\"M 328.245 224.64 \r\nL 334.332273 224.64 \r\nL 334.332273 224.64 \r\nL 328.245 224.64 \r\nz\r\n\" style=\"fill:#1f77b4;\"/>\r\n   </g>\r\n   <g id=\"patch_51\">\r\n    <path clip-path=\"url(#p3920685034)\" d=\"M 334.332273 224.64 \r\nL 340.419545 224.64 \r\nL 340.419545 224.64 \r\nL 334.332273 224.64 \r\nz\r\n\" style=\"fill:#1f77b4;\"/>\r\n   </g>\r\n   <g id=\"patch_52\">\r\n    <path clip-path=\"url(#p3920685034)\" d=\"M 340.419545 224.64 \r\nL 346.506818 224.64 \r\nL 346.506818 211.697143 \r\nL 340.419545 211.697143 \r\nz\r\n\" style=\"fill:#1f77b4;\"/>\r\n   </g>\r\n   <g id=\"matplotlib.axis_1\">\r\n    <g id=\"xtick_1\">\r\n     <g id=\"line2d_1\">\r\n      <path clip-path=\"url(#p3920685034)\" d=\"M 27.45931 224.64 \r\nL 27.45931 7.2 \r\n\" style=\"fill:none;stroke:#b0b0b0;stroke-linecap:square;stroke-width:0.8;\"/>\r\n     </g>\r\n     <g id=\"line2d_2\">\r\n      <defs>\r\n       <path d=\"M 0 0 \r\nL 0 3.5 \r\n\" id=\"m5819ee79a9\" style=\"stroke:#000000;stroke-width:0.8;\"/>\r\n      </defs>\r\n      <g>\r\n       <use style=\"stroke:#000000;stroke-width:0.8;\" x=\"27.45931\" xlink:href=\"#m5819ee79a9\" y=\"224.64\"/>\r\n      </g>\r\n     </g>\r\n     <g id=\"text_1\">\r\n      <!-- −8 -->\r\n      <defs>\r\n       <path d=\"M 10.59375 35.5 \r\nL 73.1875 35.5 \r\nL 73.1875 27.203125 \r\nL 10.59375 27.203125 \r\nz\r\n\" id=\"DejaVuSans-8722\"/>\r\n       <path d=\"M 31.78125 34.625 \r\nQ 24.75 34.625 20.71875 30.859375 \r\nQ 16.703125 27.09375 16.703125 20.515625 \r\nQ 16.703125 13.921875 20.71875 10.15625 \r\nQ 24.75 6.390625 31.78125 6.390625 \r\nQ 38.8125 6.390625 42.859375 10.171875 \r\nQ 46.921875 13.96875 46.921875 20.515625 \r\nQ 46.921875 27.09375 42.890625 30.859375 \r\nQ 38.875 34.625 31.78125 34.625 \r\nz\r\nM 21.921875 38.8125 \r\nQ 15.578125 40.375 12.03125 44.71875 \r\nQ 8.5 49.078125 8.5 55.328125 \r\nQ 8.5 64.0625 14.71875 69.140625 \r\nQ 20.953125 74.21875 31.78125 74.21875 \r\nQ 42.671875 74.21875 48.875 69.140625 \r\nQ 55.078125 64.0625 55.078125 55.328125 \r\nQ 55.078125 49.078125 51.53125 44.71875 \r\nQ 48 40.375 41.703125 38.8125 \r\nQ 48.828125 37.15625 52.796875 32.3125 \r\nQ 56.78125 27.484375 56.78125 20.515625 \r\nQ 56.78125 9.90625 50.3125 4.234375 \r\nQ 43.84375 -1.421875 31.78125 -1.421875 \r\nQ 19.734375 -1.421875 13.25 4.234375 \r\nQ 6.78125 9.90625 6.78125 20.515625 \r\nQ 6.78125 27.484375 10.78125 32.3125 \r\nQ 14.796875 37.15625 21.921875 38.8125 \r\nz\r\nM 18.3125 54.390625 \r\nQ 18.3125 48.734375 21.84375 45.5625 \r\nQ 25.390625 42.390625 31.78125 42.390625 \r\nQ 38.140625 42.390625 41.71875 45.5625 \r\nQ 45.3125 48.734375 45.3125 54.390625 \r\nQ 45.3125 60.0625 41.71875 63.234375 \r\nQ 38.140625 66.40625 31.78125 66.40625 \r\nQ 25.390625 66.40625 21.84375 63.234375 \r\nQ 18.3125 60.0625 18.3125 54.390625 \r\nz\r\n\" id=\"DejaVuSans-56\"/>\r\n      </defs>\r\n      <g transform=\"translate(20.088217 239.238437)scale(0.1 -0.1)\">\r\n       <use xlink:href=\"#DejaVuSans-8722\"/>\r\n       <use x=\"83.789062\" xlink:href=\"#DejaVuSans-56\"/>\r\n      </g>\r\n     </g>\r\n    </g>\r\n    <g id=\"xtick_2\">\r\n     <g id=\"line2d_3\">\r\n      <path clip-path=\"url(#p3920685034)\" d=\"M 67.683609 224.64 \r\nL 67.683609 7.2 \r\n\" style=\"fill:none;stroke:#b0b0b0;stroke-linecap:square;stroke-width:0.8;\"/>\r\n     </g>\r\n     <g id=\"line2d_4\">\r\n      <g>\r\n       <use style=\"stroke:#000000;stroke-width:0.8;\" x=\"67.683609\" xlink:href=\"#m5819ee79a9\" y=\"224.64\"/>\r\n      </g>\r\n     </g>\r\n     <g id=\"text_2\">\r\n      <!-- −6 -->\r\n      <defs>\r\n       <path d=\"M 33.015625 40.375 \r\nQ 26.375 40.375 22.484375 35.828125 \r\nQ 18.609375 31.296875 18.609375 23.390625 \r\nQ 18.609375 15.53125 22.484375 10.953125 \r\nQ 26.375 6.390625 33.015625 6.390625 \r\nQ 39.65625 6.390625 43.53125 10.953125 \r\nQ 47.40625 15.53125 47.40625 23.390625 \r\nQ 47.40625 31.296875 43.53125 35.828125 \r\nQ 39.65625 40.375 33.015625 40.375 \r\nz\r\nM 52.59375 71.296875 \r\nL 52.59375 62.3125 \r\nQ 48.875 64.0625 45.09375 64.984375 \r\nQ 41.3125 65.921875 37.59375 65.921875 \r\nQ 27.828125 65.921875 22.671875 59.328125 \r\nQ 17.53125 52.734375 16.796875 39.40625 \r\nQ 19.671875 43.65625 24.015625 45.921875 \r\nQ 28.375 48.1875 33.59375 48.1875 \r\nQ 44.578125 48.1875 50.953125 41.515625 \r\nQ 57.328125 34.859375 57.328125 23.390625 \r\nQ 57.328125 12.15625 50.6875 5.359375 \r\nQ 44.046875 -1.421875 33.015625 -1.421875 \r\nQ 20.359375 -1.421875 13.671875 8.265625 \r\nQ 6.984375 17.96875 6.984375 36.375 \r\nQ 6.984375 53.65625 15.1875 63.9375 \r\nQ 23.390625 74.21875 37.203125 74.21875 \r\nQ 40.921875 74.21875 44.703125 73.484375 \r\nQ 48.484375 72.75 52.59375 71.296875 \r\nz\r\n\" id=\"DejaVuSans-54\"/>\r\n      </defs>\r\n      <g transform=\"translate(60.312515 239.238437)scale(0.1 -0.1)\">\r\n       <use xlink:href=\"#DejaVuSans-8722\"/>\r\n       <use x=\"83.789062\" xlink:href=\"#DejaVuSans-54\"/>\r\n      </g>\r\n     </g>\r\n    </g>\r\n    <g id=\"xtick_3\">\r\n     <g id=\"line2d_5\">\r\n      <path clip-path=\"url(#p3920685034)\" d=\"M 107.907908 224.64 \r\nL 107.907908 7.2 \r\n\" style=\"fill:none;stroke:#b0b0b0;stroke-linecap:square;stroke-width:0.8;\"/>\r\n     </g>\r\n     <g id=\"line2d_6\">\r\n      <g>\r\n       <use style=\"stroke:#000000;stroke-width:0.8;\" x=\"107.907908\" xlink:href=\"#m5819ee79a9\" y=\"224.64\"/>\r\n      </g>\r\n     </g>\r\n     <g id=\"text_3\">\r\n      <!-- −4 -->\r\n      <defs>\r\n       <path d=\"M 37.796875 64.3125 \r\nL 12.890625 25.390625 \r\nL 37.796875 25.390625 \r\nz\r\nM 35.203125 72.90625 \r\nL 47.609375 72.90625 \r\nL 47.609375 25.390625 \r\nL 58.015625 25.390625 \r\nL 58.015625 17.1875 \r\nL 47.609375 17.1875 \r\nL 47.609375 0 \r\nL 37.796875 0 \r\nL 37.796875 17.1875 \r\nL 4.890625 17.1875 \r\nL 4.890625 26.703125 \r\nz\r\n\" id=\"DejaVuSans-52\"/>\r\n      </defs>\r\n      <g transform=\"translate(100.536814 239.238437)scale(0.1 -0.1)\">\r\n       <use xlink:href=\"#DejaVuSans-8722\"/>\r\n       <use x=\"83.789062\" xlink:href=\"#DejaVuSans-52\"/>\r\n      </g>\r\n     </g>\r\n    </g>\r\n    <g id=\"xtick_4\">\r\n     <g id=\"line2d_7\">\r\n      <path clip-path=\"url(#p3920685034)\" d=\"M 148.132207 224.64 \r\nL 148.132207 7.2 \r\n\" style=\"fill:none;stroke:#b0b0b0;stroke-linecap:square;stroke-width:0.8;\"/>\r\n     </g>\r\n     <g id=\"line2d_8\">\r\n      <g>\r\n       <use style=\"stroke:#000000;stroke-width:0.8;\" x=\"148.132207\" xlink:href=\"#m5819ee79a9\" y=\"224.64\"/>\r\n      </g>\r\n     </g>\r\n     <g id=\"text_4\">\r\n      <!-- −2 -->\r\n      <defs>\r\n       <path d=\"M 19.1875 8.296875 \r\nL 53.609375 8.296875 \r\nL 53.609375 0 \r\nL 7.328125 0 \r\nL 7.328125 8.296875 \r\nQ 12.9375 14.109375 22.625 23.890625 \r\nQ 32.328125 33.6875 34.8125 36.53125 \r\nQ 39.546875 41.84375 41.421875 45.53125 \r\nQ 43.3125 49.21875 43.3125 52.78125 \r\nQ 43.3125 58.59375 39.234375 62.25 \r\nQ 35.15625 65.921875 28.609375 65.921875 \r\nQ 23.96875 65.921875 18.8125 64.3125 \r\nQ 13.671875 62.703125 7.8125 59.421875 \r\nL 7.8125 69.390625 \r\nQ 13.765625 71.78125 18.9375 73 \r\nQ 24.125 74.21875 28.421875 74.21875 \r\nQ 39.75 74.21875 46.484375 68.546875 \r\nQ 53.21875 62.890625 53.21875 53.421875 \r\nQ 53.21875 48.921875 51.53125 44.890625 \r\nQ 49.859375 40.875 45.40625 35.40625 \r\nQ 44.1875 33.984375 37.640625 27.21875 \r\nQ 31.109375 20.453125 19.1875 8.296875 \r\nz\r\n\" id=\"DejaVuSans-50\"/>\r\n      </defs>\r\n      <g transform=\"translate(140.761113 239.238437)scale(0.1 -0.1)\">\r\n       <use xlink:href=\"#DejaVuSans-8722\"/>\r\n       <use x=\"83.789062\" xlink:href=\"#DejaVuSans-50\"/>\r\n      </g>\r\n     </g>\r\n    </g>\r\n    <g id=\"xtick_5\">\r\n     <g id=\"line2d_9\">\r\n      <path clip-path=\"url(#p3920685034)\" d=\"M 188.356506 224.64 \r\nL 188.356506 7.2 \r\n\" style=\"fill:none;stroke:#b0b0b0;stroke-linecap:square;stroke-width:0.8;\"/>\r\n     </g>\r\n     <g id=\"line2d_10\">\r\n      <g>\r\n       <use style=\"stroke:#000000;stroke-width:0.8;\" x=\"188.356506\" xlink:href=\"#m5819ee79a9\" y=\"224.64\"/>\r\n      </g>\r\n     </g>\r\n     <g id=\"text_5\">\r\n      <!-- 0 -->\r\n      <defs>\r\n       <path d=\"M 31.78125 66.40625 \r\nQ 24.171875 66.40625 20.328125 58.90625 \r\nQ 16.5 51.421875 16.5 36.375 \r\nQ 16.5 21.390625 20.328125 13.890625 \r\nQ 24.171875 6.390625 31.78125 6.390625 \r\nQ 39.453125 6.390625 43.28125 13.890625 \r\nQ 47.125 21.390625 47.125 36.375 \r\nQ 47.125 51.421875 43.28125 58.90625 \r\nQ 39.453125 66.40625 31.78125 66.40625 \r\nz\r\nM 31.78125 74.21875 \r\nQ 44.046875 74.21875 50.515625 64.515625 \r\nQ 56.984375 54.828125 56.984375 36.375 \r\nQ 56.984375 17.96875 50.515625 8.265625 \r\nQ 44.046875 -1.421875 31.78125 -1.421875 \r\nQ 19.53125 -1.421875 13.0625 8.265625 \r\nQ 6.59375 17.96875 6.59375 36.375 \r\nQ 6.59375 54.828125 13.0625 64.515625 \r\nQ 19.53125 74.21875 31.78125 74.21875 \r\nz\r\n\" id=\"DejaVuSans-48\"/>\r\n      </defs>\r\n      <g transform=\"translate(185.175256 239.238437)scale(0.1 -0.1)\">\r\n       <use xlink:href=\"#DejaVuSans-48\"/>\r\n      </g>\r\n     </g>\r\n    </g>\r\n    <g id=\"xtick_6\">\r\n     <g id=\"line2d_11\">\r\n      <path clip-path=\"url(#p3920685034)\" d=\"M 228.580805 224.64 \r\nL 228.580805 7.2 \r\n\" style=\"fill:none;stroke:#b0b0b0;stroke-linecap:square;stroke-width:0.8;\"/>\r\n     </g>\r\n     <g id=\"line2d_12\">\r\n      <g>\r\n       <use style=\"stroke:#000000;stroke-width:0.8;\" x=\"228.580805\" xlink:href=\"#m5819ee79a9\" y=\"224.64\"/>\r\n      </g>\r\n     </g>\r\n     <g id=\"text_6\">\r\n      <!-- 2 -->\r\n      <g transform=\"translate(225.399555 239.238437)scale(0.1 -0.1)\">\r\n       <use xlink:href=\"#DejaVuSans-50\"/>\r\n      </g>\r\n     </g>\r\n    </g>\r\n    <g id=\"xtick_7\">\r\n     <g id=\"line2d_13\">\r\n      <path clip-path=\"url(#p3920685034)\" d=\"M 268.805103 224.64 \r\nL 268.805103 7.2 \r\n\" style=\"fill:none;stroke:#b0b0b0;stroke-linecap:square;stroke-width:0.8;\"/>\r\n     </g>\r\n     <g id=\"line2d_14\">\r\n      <g>\r\n       <use style=\"stroke:#000000;stroke-width:0.8;\" x=\"268.805103\" xlink:href=\"#m5819ee79a9\" y=\"224.64\"/>\r\n      </g>\r\n     </g>\r\n     <g id=\"text_7\">\r\n      <!-- 4 -->\r\n      <g transform=\"translate(265.623853 239.238437)scale(0.1 -0.1)\">\r\n       <use xlink:href=\"#DejaVuSans-52\"/>\r\n      </g>\r\n     </g>\r\n    </g>\r\n    <g id=\"xtick_8\">\r\n     <g id=\"line2d_15\">\r\n      <path clip-path=\"url(#p3920685034)\" d=\"M 309.029402 224.64 \r\nL 309.029402 7.2 \r\n\" style=\"fill:none;stroke:#b0b0b0;stroke-linecap:square;stroke-width:0.8;\"/>\r\n     </g>\r\n     <g id=\"line2d_16\">\r\n      <g>\r\n       <use style=\"stroke:#000000;stroke-width:0.8;\" x=\"309.029402\" xlink:href=\"#m5819ee79a9\" y=\"224.64\"/>\r\n      </g>\r\n     </g>\r\n     <g id=\"text_8\">\r\n      <!-- 6 -->\r\n      <g transform=\"translate(305.848152 239.238437)scale(0.1 -0.1)\">\r\n       <use xlink:href=\"#DejaVuSans-54\"/>\r\n      </g>\r\n     </g>\r\n    </g>\r\n    <g id=\"xtick_9\">\r\n     <g id=\"line2d_17\">\r\n      <path clip-path=\"url(#p3920685034)\" d=\"M 349.253701 224.64 \r\nL 349.253701 7.2 \r\n\" style=\"fill:none;stroke:#b0b0b0;stroke-linecap:square;stroke-width:0.8;\"/>\r\n     </g>\r\n     <g id=\"line2d_18\">\r\n      <g>\r\n       <use style=\"stroke:#000000;stroke-width:0.8;\" x=\"349.253701\" xlink:href=\"#m5819ee79a9\" y=\"224.64\"/>\r\n      </g>\r\n     </g>\r\n     <g id=\"text_9\">\r\n      <!-- 8 -->\r\n      <g transform=\"translate(346.072451 239.238437)scale(0.1 -0.1)\">\r\n       <use xlink:href=\"#DejaVuSans-56\"/>\r\n      </g>\r\n     </g>\r\n    </g>\r\n   </g>\r\n   <g id=\"matplotlib.axis_2\">\r\n    <g id=\"ytick_1\">\r\n     <g id=\"line2d_19\">\r\n      <path clip-path=\"url(#p3920685034)\" d=\"M 26.925 224.64 \r\nL 361.725 224.64 \r\n\" style=\"fill:none;stroke:#b0b0b0;stroke-linecap:square;stroke-width:0.8;\"/>\r\n     </g>\r\n     <g id=\"line2d_20\">\r\n      <defs>\r\n       <path d=\"M 0 0 \r\nL -3.5 0 \r\n\" id=\"m0d38544cbe\" style=\"stroke:#000000;stroke-width:0.8;\"/>\r\n      </defs>\r\n      <g>\r\n       <use style=\"stroke:#000000;stroke-width:0.8;\" x=\"26.925\" xlink:href=\"#m0d38544cbe\" y=\"224.64\"/>\r\n      </g>\r\n     </g>\r\n     <g id=\"text_10\">\r\n      <!-- 0 -->\r\n      <g transform=\"translate(13.5625 228.439219)scale(0.1 -0.1)\">\r\n       <use xlink:href=\"#DejaVuSans-48\"/>\r\n      </g>\r\n     </g>\r\n    </g>\r\n    <g id=\"ytick_2\">\r\n     <g id=\"line2d_21\">\r\n      <path clip-path=\"url(#p3920685034)\" d=\"M 26.925 198.754286 \r\nL 361.725 198.754286 \r\n\" style=\"fill:none;stroke:#b0b0b0;stroke-linecap:square;stroke-width:0.8;\"/>\r\n     </g>\r\n     <g id=\"line2d_22\">\r\n      <g>\r\n       <use style=\"stroke:#000000;stroke-width:0.8;\" x=\"26.925\" xlink:href=\"#m0d38544cbe\" y=\"198.754286\"/>\r\n      </g>\r\n     </g>\r\n     <g id=\"text_11\">\r\n      <!-- 2 -->\r\n      <g transform=\"translate(13.5625 202.553504)scale(0.1 -0.1)\">\r\n       <use xlink:href=\"#DejaVuSans-50\"/>\r\n      </g>\r\n     </g>\r\n    </g>\r\n    <g id=\"ytick_3\">\r\n     <g id=\"line2d_23\">\r\n      <path clip-path=\"url(#p3920685034)\" d=\"M 26.925 172.868571 \r\nL 361.725 172.868571 \r\n\" style=\"fill:none;stroke:#b0b0b0;stroke-linecap:square;stroke-width:0.8;\"/>\r\n     </g>\r\n     <g id=\"line2d_24\">\r\n      <g>\r\n       <use style=\"stroke:#000000;stroke-width:0.8;\" x=\"26.925\" xlink:href=\"#m0d38544cbe\" y=\"172.868571\"/>\r\n      </g>\r\n     </g>\r\n     <g id=\"text_12\">\r\n      <!-- 4 -->\r\n      <g transform=\"translate(13.5625 176.66779)scale(0.1 -0.1)\">\r\n       <use xlink:href=\"#DejaVuSans-52\"/>\r\n      </g>\r\n     </g>\r\n    </g>\r\n    <g id=\"ytick_4\">\r\n     <g id=\"line2d_25\">\r\n      <path clip-path=\"url(#p3920685034)\" d=\"M 26.925 146.982857 \r\nL 361.725 146.982857 \r\n\" style=\"fill:none;stroke:#b0b0b0;stroke-linecap:square;stroke-width:0.8;\"/>\r\n     </g>\r\n     <g id=\"line2d_26\">\r\n      <g>\r\n       <use style=\"stroke:#000000;stroke-width:0.8;\" x=\"26.925\" xlink:href=\"#m0d38544cbe\" y=\"146.982857\"/>\r\n      </g>\r\n     </g>\r\n     <g id=\"text_13\">\r\n      <!-- 6 -->\r\n      <g transform=\"translate(13.5625 150.782076)scale(0.1 -0.1)\">\r\n       <use xlink:href=\"#DejaVuSans-54\"/>\r\n      </g>\r\n     </g>\r\n    </g>\r\n    <g id=\"ytick_5\">\r\n     <g id=\"line2d_27\">\r\n      <path clip-path=\"url(#p3920685034)\" d=\"M 26.925 121.097143 \r\nL 361.725 121.097143 \r\n\" style=\"fill:none;stroke:#b0b0b0;stroke-linecap:square;stroke-width:0.8;\"/>\r\n     </g>\r\n     <g id=\"line2d_28\">\r\n      <g>\r\n       <use style=\"stroke:#000000;stroke-width:0.8;\" x=\"26.925\" xlink:href=\"#m0d38544cbe\" y=\"121.097143\"/>\r\n      </g>\r\n     </g>\r\n     <g id=\"text_14\">\r\n      <!-- 8 -->\r\n      <g transform=\"translate(13.5625 124.896362)scale(0.1 -0.1)\">\r\n       <use xlink:href=\"#DejaVuSans-56\"/>\r\n      </g>\r\n     </g>\r\n    </g>\r\n    <g id=\"ytick_6\">\r\n     <g id=\"line2d_29\">\r\n      <path clip-path=\"url(#p3920685034)\" d=\"M 26.925 95.211429 \r\nL 361.725 95.211429 \r\n\" style=\"fill:none;stroke:#b0b0b0;stroke-linecap:square;stroke-width:0.8;\"/>\r\n     </g>\r\n     <g id=\"line2d_30\">\r\n      <g>\r\n       <use style=\"stroke:#000000;stroke-width:0.8;\" x=\"26.925\" xlink:href=\"#m0d38544cbe\" y=\"95.211429\"/>\r\n      </g>\r\n     </g>\r\n     <g id=\"text_15\">\r\n      <!-- 10 -->\r\n      <defs>\r\n       <path d=\"M 12.40625 8.296875 \r\nL 28.515625 8.296875 \r\nL 28.515625 63.921875 \r\nL 10.984375 60.40625 \r\nL 10.984375 69.390625 \r\nL 28.421875 72.90625 \r\nL 38.28125 72.90625 \r\nL 38.28125 8.296875 \r\nL 54.390625 8.296875 \r\nL 54.390625 0 \r\nL 12.40625 0 \r\nz\r\n\" id=\"DejaVuSans-49\"/>\r\n      </defs>\r\n      <g transform=\"translate(7.2 99.010647)scale(0.1 -0.1)\">\r\n       <use xlink:href=\"#DejaVuSans-49\"/>\r\n       <use x=\"63.623047\" xlink:href=\"#DejaVuSans-48\"/>\r\n      </g>\r\n     </g>\r\n    </g>\r\n    <g id=\"ytick_7\">\r\n     <g id=\"line2d_31\">\r\n      <path clip-path=\"url(#p3920685034)\" d=\"M 26.925 69.325714 \r\nL 361.725 69.325714 \r\n\" style=\"fill:none;stroke:#b0b0b0;stroke-linecap:square;stroke-width:0.8;\"/>\r\n     </g>\r\n     <g id=\"line2d_32\">\r\n      <g>\r\n       <use style=\"stroke:#000000;stroke-width:0.8;\" x=\"26.925\" xlink:href=\"#m0d38544cbe\" y=\"69.325714\"/>\r\n      </g>\r\n     </g>\r\n     <g id=\"text_16\">\r\n      <!-- 12 -->\r\n      <g transform=\"translate(7.2 73.124933)scale(0.1 -0.1)\">\r\n       <use xlink:href=\"#DejaVuSans-49\"/>\r\n       <use x=\"63.623047\" xlink:href=\"#DejaVuSans-50\"/>\r\n      </g>\r\n     </g>\r\n    </g>\r\n    <g id=\"ytick_8\">\r\n     <g id=\"line2d_33\">\r\n      <path clip-path=\"url(#p3920685034)\" d=\"M 26.925 43.44 \r\nL 361.725 43.44 \r\n\" style=\"fill:none;stroke:#b0b0b0;stroke-linecap:square;stroke-width:0.8;\"/>\r\n     </g>\r\n     <g id=\"line2d_34\">\r\n      <g>\r\n       <use style=\"stroke:#000000;stroke-width:0.8;\" x=\"26.925\" xlink:href=\"#m0d38544cbe\" y=\"43.44\"/>\r\n      </g>\r\n     </g>\r\n     <g id=\"text_17\">\r\n      <!-- 14 -->\r\n      <g transform=\"translate(7.2 47.239219)scale(0.1 -0.1)\">\r\n       <use xlink:href=\"#DejaVuSans-49\"/>\r\n       <use x=\"63.623047\" xlink:href=\"#DejaVuSans-52\"/>\r\n      </g>\r\n     </g>\r\n    </g>\r\n    <g id=\"ytick_9\">\r\n     <g id=\"line2d_35\">\r\n      <path clip-path=\"url(#p3920685034)\" d=\"M 26.925 17.554286 \r\nL 361.725 17.554286 \r\n\" style=\"fill:none;stroke:#b0b0b0;stroke-linecap:square;stroke-width:0.8;\"/>\r\n     </g>\r\n     <g id=\"line2d_36\">\r\n      <g>\r\n       <use style=\"stroke:#000000;stroke-width:0.8;\" x=\"26.925\" xlink:href=\"#m0d38544cbe\" y=\"17.554286\"/>\r\n      </g>\r\n     </g>\r\n     <g id=\"text_18\">\r\n      <!-- 16 -->\r\n      <g transform=\"translate(7.2 21.353504)scale(0.1 -0.1)\">\r\n       <use xlink:href=\"#DejaVuSans-49\"/>\r\n       <use x=\"63.623047\" xlink:href=\"#DejaVuSans-54\"/>\r\n      </g>\r\n     </g>\r\n    </g>\r\n   </g>\r\n   <g id=\"patch_53\">\r\n    <path d=\"M 26.925 224.64 \r\nL 26.925 7.2 \r\n\" style=\"fill:none;stroke:#000000;stroke-linecap:square;stroke-linejoin:miter;stroke-width:0.8;\"/>\r\n   </g>\r\n   <g id=\"patch_54\">\r\n    <path d=\"M 361.725 224.64 \r\nL 361.725 7.2 \r\n\" style=\"fill:none;stroke:#000000;stroke-linecap:square;stroke-linejoin:miter;stroke-width:0.8;\"/>\r\n   </g>\r\n   <g id=\"patch_55\">\r\n    <path d=\"M 26.925 224.64 \r\nL 361.725 224.64 \r\n\" style=\"fill:none;stroke:#000000;stroke-linecap:square;stroke-linejoin:miter;stroke-width:0.8;\"/>\r\n   </g>\r\n   <g id=\"patch_56\">\r\n    <path d=\"M 26.925 7.2 \r\nL 361.725 7.2 \r\n\" style=\"fill:none;stroke:#000000;stroke-linecap:square;stroke-linejoin:miter;stroke-width:0.8;\"/>\r\n   </g>\r\n  </g>\r\n </g>\r\n <defs>\r\n  <clipPath id=\"p3920685034\">\r\n   <rect height=\"217.44\" width=\"334.8\" x=\"26.925\" y=\"7.2\"/>\r\n  </clipPath>\r\n </defs>\r\n</svg>\r\n",
      "text/plain": "<Figure size 432x288 with 1 Axes>"
     },
     "metadata": {
      "needs_background": "light"
     },
     "output_type": "display_data"
    }
   ],
   "source": [
    "dft[(dft['mat']=='CuBTC') & (dft['ads']=='nitrogen')]['kH'].hist(bins=50)"
   ]
  },
  {
   "cell_type": "code",
   "execution_count": 260,
   "metadata": {},
   "outputs": [
    {
     "name": "stdout",
     "output_type": "stream",
     "text": "2.007282109337619\n"
    },
    {
     "data": {
      "text/plain": "0.36256445419738215"
     },
     "execution_count": 260,
     "metadata": {},
     "output_type": "execute_result"
    }
   ],
   "source": [
    "x = dft[(dft['mat']=='CuBTC') & (dft['ads']=='nitrogen')]['kH']\n",
    "Q1 = x.quantile(0.25)\n",
    "Q3 = x.quantile(0.75)\n",
    "IQR = Q3 - Q1\n",
    "\n",
    "print(np.std(x))\n",
    "np.std(x[(Q1 - 1.5 * IQR < x) & ( x < Q3 + 1.5 * IQR)])"
   ]
  },
  {
   "cell_type": "code",
   "execution_count": null,
   "metadata": {},
   "outputs": [],
   "source": []
  },
  {
   "cell_type": "code",
   "execution_count": 61,
   "metadata": {},
   "outputs": [
    {
     "data": {
      "text/html": "<div>\n<style scoped>\n    .dataframe tbody tr th:only-of-type {\n        vertical-align: middle;\n    }\n\n    .dataframe tbody tr th {\n        vertical-align: top;\n    }\n\n    .dataframe thead th {\n        text-align: right;\n    }\n</style>\n<table border=\"1\" class=\"dataframe\">\n  <thead>\n    <tr style=\"text-align: right;\">\n      <th></th>\n      <th>index_x</th>\n      <th>kH_x</th>\n      <th>0.5_x</th>\n      <th>1.0_x</th>\n      <th>1.5_x</th>\n      <th>2.0_x</th>\n      <th>2.5_x</th>\n      <th>3.0_x</th>\n      <th>3.5_x</th>\n      <th>4.0_x</th>\n      <th>...</th>\n      <th>15.5_y</th>\n      <th>16.0_y</th>\n      <th>16.5_y</th>\n      <th>17.0_y</th>\n      <th>17.5_y</th>\n      <th>18.0_y</th>\n      <th>18.5_y</th>\n      <th>19.0_y</th>\n      <th>19.5_y</th>\n      <th>20.0_y</th>\n    </tr>\n    <tr>\n      <th>mat</th>\n      <th></th>\n      <th></th>\n      <th></th>\n      <th></th>\n      <th></th>\n      <th></th>\n      <th></th>\n      <th></th>\n      <th></th>\n      <th></th>\n      <th></th>\n      <th></th>\n      <th></th>\n      <th></th>\n      <th></th>\n      <th></th>\n      <th></th>\n      <th></th>\n      <th></th>\n      <th></th>\n      <th></th>\n    </tr>\n  </thead>\n  <tbody>\n    <tr>\n      <th>NH2-MIL-53(Al)</th>\n      <td>(10.1002adfm.201200084.Isotherm8, 10.1002ceat....</td>\n      <td>(0.00020210650202326857, 0.03783325084453814)</td>\n      <td>(0.00010105325101163429, 0.01891662542226907)</td>\n      <td>(0.00020210650202326857, 0.03783325084453814)</td>\n      <td>(0.0003031597530349029, 0.056749876266807206)</td>\n      <td>(0.00040421300404653714, 0.07566650168907628)</td>\n      <td>(0.0005052662550581714, 0.09458312711134535)</td>\n      <td>(0.0006063195060698058, 0.11349975253361441)</td>\n      <td>(0.00070737275708144, 0.13241637795588349)</td>\n      <td>(0.0008084260080930743, 0.18242927403674175)</td>\n      <td>...</td>\n      <td>(1.1777932045205852, 8.699773839782756, 2.5796...</td>\n      <td>(1.1968789046049892, 4.536204809523815, 2.5866...</td>\n      <td>(1.2139959267789466, 4.944115083904217, 2.5937...</td>\n      <td>(1.2297175156014797, 5.396393381937024, 2.6014...</td>\n      <td>(1.245439104424013, 5.848671679969831, 2.63072...</td>\n      <td>(1.2611606932465462, 9.123215310594382, 2.6600...</td>\n      <td>(1.2768822820690793, 8.425902437847617, 2.6893...</td>\n      <td>(1.2926038708916125, 7.728589565100849, 2.7186...</td>\n      <td>(1.3083254597141458, 7.82355594934654, 2.82575...</td>\n      <td>(1.3219865096562438, 8.743139519441515, 2.9523...</td>\n    </tr>\n    <tr>\n      <th>Zeolite Na-LSX</th>\n      <td>(10.1002Aic.10306.Isotherm1, 10.1002Aic.10306....</td>\n      <td>(0.2697611366633586, 0.25368915953889465, 0.17...</td>\n      <td>(0.1348805683316793, 0.12684457976944732, 0.08...</td>\n      <td>(0.378409, nan, nan, 0.2632578, 0.276531919193...</td>\n      <td>(0.46912899999999996, 0.4448864, 0.34286633333...</td>\n      <td>(0.582576, 0.5416668, 0.42853566666666665, 0.4...</td>\n      <td>(0.71875, 0.6758206666666667, 0.514205, 0.4990...</td>\n      <td>(0.84734775, 0.847348, 0.5928034, 0.574621, 0....</td>\n      <td>(0.9683692500000001, 0.953219, 0.6714018, 0.67...</td>\n      <td>(1.07727, 1.05909, 0.7530304, 0.7681816, 1.068...</td>\n      <td>...</td>\n      <td>(6.1730496093466165, 5.852302585774375, 6.3503...</td>\n      <td>(6.181438235845269, 5.864548657789012, 6.35169...</td>\n      <td>(6.18982686234392, 5.876610126255114, 6.352394...</td>\n      <td>(6.196557710673113, 5.88282340256601, 6.353092...</td>\n      <td>(6.202771916697657, 5.889036678876907, 6.35379...</td>\n      <td>(6.208986122722202, 5.895249955187802, 6.35449...</td>\n      <td>(6.215200328746746, 5.901463231498699, 6.35537...</td>\n      <td>(6.221414534771291, 5.907676507809595, 6.36282...</td>\n      <td>(6.227628740795835, 5.913889784120491, 6.37027...</td>\n      <td>(6.2338429468203795, 5.920103060431387, 6.3777...</td>\n    </tr>\n    <tr>\n      <th>CuBTC</th>\n      <td>(10.1002Aic.11298.Isotherm1, 10.1002Aic.11298....</td>\n      <td>(0.3244085727725127, 0.36774388341788317, 0.30...</td>\n      <td>(0.165483, 0.17891095386023803, 0.148316435041...</td>\n      <td>(0.3216852178312594, 0.3142415902218004, nan, ...</td>\n      <td>(nan, nan, nan, 0.2856779875709975, 0.40746227...</td>\n      <td>(nan, nan, nan, 0.38090398342799664, 0.5049744...</td>\n      <td>(nan, nan, nan, 0.5163531145090713, 0.60118442...</td>\n      <td>(nan, nan, nan, 0.6088709374108855, 0.69739438...</td>\n      <td>(nan, nan, nan, 0.7057631319739157, 0.79360434...</td>\n      <td>(nan, nan, nan, 0.8031505659869579, 0.88981430...</td>\n      <td>...</td>\n      <td>(1.1941010978993316, nan, nan, nan, nan, nan, ...</td>\n      <td>(1.2219748926505076, nan, nan, nan, nan, nan, ...</td>\n      <td>(1.2521341145905762, nan, nan, nan, nan, nan, ...</td>\n      <td>(1.2855658548400317, nan, nan, nan, nan, nan, ...</td>\n      <td>(1.3189975950894874, nan, nan, nan, nan, nan, ...</td>\n      <td>(1.350616095759337, nan, nan, nan, nan, nan, n...</td>\n      <td>(1.3792836752636375, nan, nan, nan, nan, nan, ...</td>\n      <td>(1.407951254767938, nan, nan, nan, nan, nan, n...</td>\n      <td>(1.4366188342722386, nan, nan, nan, nan, nan, ...</td>\n      <td>(1.4693190921934272, nan, nan, nan, nan, nan, ...</td>\n    </tr>\n    <tr>\n      <th>ZIF-8</th>\n      <td>(10.1002Aic.13970.isotherm19, 10.1002Aic.13970...</td>\n      <td>(0.20834544893525542, 0.18572195711213335, 0.2...</td>\n      <td>(0.06125835583768949, 0.06125835583768949, 0.1...</td>\n      <td>(0.11067547765918263, 0.11067547765918263, 0.2...</td>\n      <td>(0.19828910826516333, 0.19254467582999998, 0.1...</td>\n      <td>(0.3015617779752239, 0.28771792583, 0.30569817...</td>\n      <td>(0.4048344476852844, 0.38289117583000004, 0.42...</td>\n      <td>(0.508107117395345, 0.47806442583000003, 0.538...</td>\n      <td>(0.6214610158, 0.58378478387, 0.65136778673317...</td>\n      <td>(0.7374535158, 0.69382903387, 0.76311426237308...</td>\n      <td>...</td>\n      <td>(4.1495696988176975, 4.153374367529412, 3.6684...</td>\n      <td>(4.188681102826904, 4.189461426352941, 3.71656...</td>\n      <td>(4.227792506836111, 4.22554848517647, 3.764707...</td>\n      <td>(4.2669039108453175, 4.261635544, 3.8128467472...</td>\n      <td>(4.306015314854524, 4.305139707, 3.86098574287...</td>\n      <td>(4.345126718863731, 4.350584707, 3.90912473854...</td>\n      <td>(4.3842381228729375, 4.396029707, 3.9572637342...</td>\n      <td>(4.423349526882144, 4.441474707, 4.00540272987...</td>\n      <td>(4.462460930891351, 4.486919707, 4.05354172554...</td>\n      <td>(4.501572334900557, 4.532364707, 4.10082996013...</td>\n    </tr>\n    <tr>\n      <th>ED-ZIF-8</th>\n      <td>(10.1002Aic.13970.isotherm23, 10.1002Aic.13970...</td>\n      <td>(0.2606025187769176, 0.2248265161666242, 0.807...</td>\n      <td>(0.1303012593884588, 0.1124132580833121, 0.329...</td>\n      <td>(0.13891766235074104, 0.1416527945714868, 0.67...</td>\n      <td>(0.2620831900359436, 0.2523649391751043, 1.127...</td>\n      <td>(0.3852487177211461, 0.3630770837787217, 1.580...</td>\n      <td>(0.5084142454063487, 0.47378922838233917, 2.06...</td>\n      <td>(0.6315797730915512, 0.5845013729859567, 2.545...</td>\n      <td>(0.7539778961340472, 0.6896226855956153, 2.988...</td>\n      <td>(0.8763434106393296, 0.7945064327241915, 3.430...</td>\n      <td>...</td>\n      <td>(5.0490277015625, 8.353536736615384, 6.9334483...</td>\n      <td>(5.1413386390625, 8.44092853148718, 7.05579811...</td>\n      <td>(5.233649576562501, 8.528320326358974, 7.17814...</td>\n      <td>(5.3259605140625, 8.61571212123077, 7.30049760...</td>\n      <td>(5.4182714515625, 8.703103916102563, 7.4228473...</td>\n      <td>(5.510582389062501, 8.790495710974358, 7.54519...</td>\n      <td>(5.603582532352942, 8.877887505846154, 7.66754...</td>\n      <td>(5.6971442970588235, 8.965279300717949, 7.7898...</td>\n      <td>(5.790706061764706, 9.052671095589744, 7.91224...</td>\n      <td>(5.879993563076924, 9.139618543557784, 8.03114...</td>\n    </tr>\n    <tr>\n      <th>...</th>\n      <td>...</td>\n      <td>...</td>\n      <td>...</td>\n      <td>...</td>\n      <td>...</td>\n      <td>...</td>\n      <td>...</td>\n      <td>...</td>\n      <td>...</td>\n      <td>...</td>\n      <td>...</td>\n      <td>...</td>\n      <td>...</td>\n      <td>...</td>\n      <td>...</td>\n      <td>...</td>\n      <td>...</td>\n      <td>...</td>\n      <td>...</td>\n      <td>...</td>\n      <td>...</td>\n    </tr>\n    <tr>\n      <th>IH3</th>\n      <td>(10.3390en10060827.Isotherm4,)</td>\n      <td>(0.4490005680429857,)</td>\n      <td>(0.22802527042577675,)</td>\n      <td>(0.40655899393939393,)</td>\n      <td>(nan,)</td>\n      <td>(nan,)</td>\n      <td>(nan,)</td>\n      <td>(nan,)</td>\n      <td>(nan,)</td>\n      <td>(nan,)</td>\n      <td>...</td>\n      <td>(nan,)</td>\n      <td>(nan,)</td>\n      <td>(nan,)</td>\n      <td>(nan,)</td>\n      <td>(nan,)</td>\n      <td>(nan,)</td>\n      <td>(nan,)</td>\n      <td>(nan,)</td>\n      <td>(nan,)</td>\n      <td>(nan,)</td>\n    </tr>\n    <tr>\n      <th>NOS-A94</th>\n      <td>(10.3390en9030189.Isotherm34,)</td>\n      <td>(0.944614141792701,)</td>\n      <td>(0.4672817874952052,)</td>\n      <td>(nan,)</td>\n      <td>(nan,)</td>\n      <td>(nan,)</td>\n      <td>(nan,)</td>\n      <td>(nan,)</td>\n      <td>(nan,)</td>\n      <td>(nan,)</td>\n      <td>...</td>\n      <td>(nan, nan, nan)</td>\n      <td>(nan, nan, nan)</td>\n      <td>(nan, nan, nan)</td>\n      <td>(nan, nan, nan)</td>\n      <td>(nan, nan, nan)</td>\n      <td>(nan, nan, nan)</td>\n      <td>(nan, nan, nan)</td>\n      <td>(nan, nan, nan)</td>\n      <td>(nan, nan, nan)</td>\n      <td>(nan, nan, nan)</td>\n    </tr>\n    <tr>\n      <th>NKb-A82</th>\n      <td>(10.3390en9030189.Isotherm35,)</td>\n      <td>(0.9806878659519737,)</td>\n      <td>(0.5031150085600152,)</td>\n      <td>(nan,)</td>\n      <td>(nan,)</td>\n      <td>(nan,)</td>\n      <td>(nan,)</td>\n      <td>(nan,)</td>\n      <td>(nan,)</td>\n      <td>(nan,)</td>\n      <td>...</td>\n      <td>(nan, nan, nan, nan)</td>\n      <td>(nan, nan, nan, nan)</td>\n      <td>(nan, nan, nan, nan)</td>\n      <td>(nan, nan, nan, nan)</td>\n      <td>(nan, nan, nan, nan)</td>\n      <td>(nan, nan, nan, nan)</td>\n      <td>(nan, nan, nan, nan)</td>\n      <td>(nan, nan, nan, nan)</td>\n      <td>(nan, nan, nan, nan)</td>\n      <td>(nan, nan, nan, nan)</td>\n    </tr>\n    <tr>\n      <th>Nka-A82</th>\n      <td>(10.3390en9030189.Isotherm36,)</td>\n      <td>(1.1379334115119164,)</td>\n      <td>(0.5807893948067879,)</td>\n      <td>(nan,)</td>\n      <td>(nan,)</td>\n      <td>(nan,)</td>\n      <td>(nan,)</td>\n      <td>(nan,)</td>\n      <td>(nan,)</td>\n      <td>(nan,)</td>\n      <td>...</td>\n      <td>(nan, nan, nan)</td>\n      <td>(nan, nan, nan)</td>\n      <td>(nan, nan, nan)</td>\n      <td>(nan, nan, nan)</td>\n      <td>(nan, nan, nan)</td>\n      <td>(nan, nan, nan)</td>\n      <td>(nan, nan, nan)</td>\n      <td>(nan, nan, nan)</td>\n      <td>(nan, nan, nan)</td>\n      <td>(nan, nan, nan)</td>\n    </tr>\n    <tr>\n      <th>BPL</th>\n      <td>(10.3390en9030189.Isotherm37,)</td>\n      <td>(0.6233850403168049,)</td>\n      <td>(0.32210835633626095,)</td>\n      <td>(0.6071696389743589,)</td>\n      <td>(nan,)</td>\n      <td>(nan,)</td>\n      <td>(nan,)</td>\n      <td>(nan,)</td>\n      <td>(nan,)</td>\n      <td>(nan,)</td>\n      <td>...</td>\n      <td>(nan, nan, nan, nan)</td>\n      <td>(nan, nan, nan, nan)</td>\n      <td>(nan, nan, nan, nan)</td>\n      <td>(nan, nan, nan, nan)</td>\n      <td>(nan, nan, nan, nan)</td>\n      <td>(nan, nan, nan, nan)</td>\n      <td>(nan, nan, nan, nan)</td>\n      <td>(nan, nan, nan, nan)</td>\n      <td>(nan, nan, nan, nan)</td>\n      <td>(nan, nan, nan, nan)</td>\n    </tr>\n  </tbody>\n</table>\n<p>352 rows × 84 columns</p>\n</div>",
      "text/plain": "                                                          index_x  \\\nmat                                                                 \nNH2-MIL-53(Al)  (10.1002adfm.201200084.Isotherm8, 10.1002ceat....   \nZeolite Na-LSX  (10.1002Aic.10306.Isotherm1, 10.1002Aic.10306....   \nCuBTC           (10.1002Aic.11298.Isotherm1, 10.1002Aic.11298....   \nZIF-8           (10.1002Aic.13970.isotherm19, 10.1002Aic.13970...   \nED-ZIF-8        (10.1002Aic.13970.isotherm23, 10.1002Aic.13970...   \n...                                                           ...   \nIH3                                (10.3390en10060827.Isotherm4,)   \nNOS-A94                            (10.3390en9030189.Isotherm34,)   \nNKb-A82                            (10.3390en9030189.Isotherm35,)   \nNka-A82                            (10.3390en9030189.Isotherm36,)   \nBPL                                (10.3390en9030189.Isotherm37,)   \n\n                                                             kH_x  \\\nmat                                                                 \nNH2-MIL-53(Al)      (0.00020210650202326857, 0.03783325084453814)   \nZeolite Na-LSX  (0.2697611366633586, 0.25368915953889465, 0.17...   \nCuBTC           (0.3244085727725127, 0.36774388341788317, 0.30...   \nZIF-8           (0.20834544893525542, 0.18572195711213335, 0.2...   \nED-ZIF-8        (0.2606025187769176, 0.2248265161666242, 0.807...   \n...                                                           ...   \nIH3                                         (0.4490005680429857,)   \nNOS-A94                                      (0.944614141792701,)   \nNKb-A82                                     (0.9806878659519737,)   \nNka-A82                                     (1.1379334115119164,)   \nBPL                                         (0.6233850403168049,)   \n\n                                                            0.5_x  \\\nmat                                                                 \nNH2-MIL-53(Al)      (0.00010105325101163429, 0.01891662542226907)   \nZeolite Na-LSX  (0.1348805683316793, 0.12684457976944732, 0.08...   \nCuBTC           (0.165483, 0.17891095386023803, 0.148316435041...   \nZIF-8           (0.06125835583768949, 0.06125835583768949, 0.1...   \nED-ZIF-8        (0.1303012593884588, 0.1124132580833121, 0.329...   \n...                                                           ...   \nIH3                                        (0.22802527042577675,)   \nNOS-A94                                     (0.4672817874952052,)   \nNKb-A82                                     (0.5031150085600152,)   \nNka-A82                                     (0.5807893948067879,)   \nBPL                                        (0.32210835633626095,)   \n\n                                                            1.0_x  \\\nmat                                                                 \nNH2-MIL-53(Al)      (0.00020210650202326857, 0.03783325084453814)   \nZeolite Na-LSX  (0.378409, nan, nan, 0.2632578, 0.276531919193...   \nCuBTC           (0.3216852178312594, 0.3142415902218004, nan, ...   \nZIF-8           (0.11067547765918263, 0.11067547765918263, 0.2...   \nED-ZIF-8        (0.13891766235074104, 0.1416527945714868, 0.67...   \n...                                                           ...   \nIH3                                        (0.40655899393939393,)   \nNOS-A94                                                    (nan,)   \nNKb-A82                                                    (nan,)   \nNka-A82                                                    (nan,)   \nBPL                                         (0.6071696389743589,)   \n\n                                                            1.5_x  \\\nmat                                                                 \nNH2-MIL-53(Al)      (0.0003031597530349029, 0.056749876266807206)   \nZeolite Na-LSX  (0.46912899999999996, 0.4448864, 0.34286633333...   \nCuBTC           (nan, nan, nan, 0.2856779875709975, 0.40746227...   \nZIF-8           (0.19828910826516333, 0.19254467582999998, 0.1...   \nED-ZIF-8        (0.2620831900359436, 0.2523649391751043, 1.127...   \n...                                                           ...   \nIH3                                                        (nan,)   \nNOS-A94                                                    (nan,)   \nNKb-A82                                                    (nan,)   \nNka-A82                                                    (nan,)   \nBPL                                                        (nan,)   \n\n                                                            2.0_x  \\\nmat                                                                 \nNH2-MIL-53(Al)      (0.00040421300404653714, 0.07566650168907628)   \nZeolite Na-LSX  (0.582576, 0.5416668, 0.42853566666666665, 0.4...   \nCuBTC           (nan, nan, nan, 0.38090398342799664, 0.5049744...   \nZIF-8           (0.3015617779752239, 0.28771792583, 0.30569817...   \nED-ZIF-8        (0.3852487177211461, 0.3630770837787217, 1.580...   \n...                                                           ...   \nIH3                                                        (nan,)   \nNOS-A94                                                    (nan,)   \nNKb-A82                                                    (nan,)   \nNka-A82                                                    (nan,)   \nBPL                                                        (nan,)   \n\n                                                            2.5_x  \\\nmat                                                                 \nNH2-MIL-53(Al)       (0.0005052662550581714, 0.09458312711134535)   \nZeolite Na-LSX  (0.71875, 0.6758206666666667, 0.514205, 0.4990...   \nCuBTC           (nan, nan, nan, 0.5163531145090713, 0.60118442...   \nZIF-8           (0.4048344476852844, 0.38289117583000004, 0.42...   \nED-ZIF-8        (0.5084142454063487, 0.47378922838233917, 2.06...   \n...                                                           ...   \nIH3                                                        (nan,)   \nNOS-A94                                                    (nan,)   \nNKb-A82                                                    (nan,)   \nNka-A82                                                    (nan,)   \nBPL                                                        (nan,)   \n\n                                                            3.0_x  \\\nmat                                                                 \nNH2-MIL-53(Al)       (0.0006063195060698058, 0.11349975253361441)   \nZeolite Na-LSX  (0.84734775, 0.847348, 0.5928034, 0.574621, 0....   \nCuBTC           (nan, nan, nan, 0.6088709374108855, 0.69739438...   \nZIF-8           (0.508107117395345, 0.47806442583000003, 0.538...   \nED-ZIF-8        (0.6315797730915512, 0.5845013729859567, 2.545...   \n...                                                           ...   \nIH3                                                        (nan,)   \nNOS-A94                                                    (nan,)   \nNKb-A82                                                    (nan,)   \nNka-A82                                                    (nan,)   \nBPL                                                        (nan,)   \n\n                                                            3.5_x  \\\nmat                                                                 \nNH2-MIL-53(Al)         (0.00070737275708144, 0.13241637795588349)   \nZeolite Na-LSX  (0.9683692500000001, 0.953219, 0.6714018, 0.67...   \nCuBTC           (nan, nan, nan, 0.7057631319739157, 0.79360434...   \nZIF-8           (0.6214610158, 0.58378478387, 0.65136778673317...   \nED-ZIF-8        (0.7539778961340472, 0.6896226855956153, 2.988...   \n...                                                           ...   \nIH3                                                        (nan,)   \nNOS-A94                                                    (nan,)   \nNKb-A82                                                    (nan,)   \nNka-A82                                                    (nan,)   \nBPL                                                        (nan,)   \n\n                                                            4.0_x  ...  \\\nmat                                                                ...   \nNH2-MIL-53(Al)       (0.0008084260080930743, 0.18242927403674175)  ...   \nZeolite Na-LSX  (1.07727, 1.05909, 0.7530304, 0.7681816, 1.068...  ...   \nCuBTC           (nan, nan, nan, 0.8031505659869579, 0.88981430...  ...   \nZIF-8           (0.7374535158, 0.69382903387, 0.76311426237308...  ...   \nED-ZIF-8        (0.8763434106393296, 0.7945064327241915, 3.430...  ...   \n...                                                           ...  ...   \nIH3                                                        (nan,)  ...   \nNOS-A94                                                    (nan,)  ...   \nNKb-A82                                                    (nan,)  ...   \nNka-A82                                                    (nan,)  ...   \nBPL                                                        (nan,)  ...   \n\n                                                           15.5_y  \\\nmat                                                                 \nNH2-MIL-53(Al)  (1.1777932045205852, 8.699773839782756, 2.5796...   \nZeolite Na-LSX  (6.1730496093466165, 5.852302585774375, 6.3503...   \nCuBTC           (1.1941010978993316, nan, nan, nan, nan, nan, ...   \nZIF-8           (4.1495696988176975, 4.153374367529412, 3.6684...   \nED-ZIF-8        (5.0490277015625, 8.353536736615384, 6.9334483...   \n...                                                           ...   \nIH3                                                        (nan,)   \nNOS-A94                                           (nan, nan, nan)   \nNKb-A82                                      (nan, nan, nan, nan)   \nNka-A82                                           (nan, nan, nan)   \nBPL                                          (nan, nan, nan, nan)   \n\n                                                           16.0_y  \\\nmat                                                                 \nNH2-MIL-53(Al)  (1.1968789046049892, 4.536204809523815, 2.5866...   \nZeolite Na-LSX  (6.181438235845269, 5.864548657789012, 6.35169...   \nCuBTC           (1.2219748926505076, nan, nan, nan, nan, nan, ...   \nZIF-8           (4.188681102826904, 4.189461426352941, 3.71656...   \nED-ZIF-8        (5.1413386390625, 8.44092853148718, 7.05579811...   \n...                                                           ...   \nIH3                                                        (nan,)   \nNOS-A94                                           (nan, nan, nan)   \nNKb-A82                                      (nan, nan, nan, nan)   \nNka-A82                                           (nan, nan, nan)   \nBPL                                          (nan, nan, nan, nan)   \n\n                                                           16.5_y  \\\nmat                                                                 \nNH2-MIL-53(Al)  (1.2139959267789466, 4.944115083904217, 2.5937...   \nZeolite Na-LSX  (6.18982686234392, 5.876610126255114, 6.352394...   \nCuBTC           (1.2521341145905762, nan, nan, nan, nan, nan, ...   \nZIF-8           (4.227792506836111, 4.22554848517647, 3.764707...   \nED-ZIF-8        (5.233649576562501, 8.528320326358974, 7.17814...   \n...                                                           ...   \nIH3                                                        (nan,)   \nNOS-A94                                           (nan, nan, nan)   \nNKb-A82                                      (nan, nan, nan, nan)   \nNka-A82                                           (nan, nan, nan)   \nBPL                                          (nan, nan, nan, nan)   \n\n                                                           17.0_y  \\\nmat                                                                 \nNH2-MIL-53(Al)  (1.2297175156014797, 5.396393381937024, 2.6014...   \nZeolite Na-LSX  (6.196557710673113, 5.88282340256601, 6.353092...   \nCuBTC           (1.2855658548400317, nan, nan, nan, nan, nan, ...   \nZIF-8           (4.2669039108453175, 4.261635544, 3.8128467472...   \nED-ZIF-8        (5.3259605140625, 8.61571212123077, 7.30049760...   \n...                                                           ...   \nIH3                                                        (nan,)   \nNOS-A94                                           (nan, nan, nan)   \nNKb-A82                                      (nan, nan, nan, nan)   \nNka-A82                                           (nan, nan, nan)   \nBPL                                          (nan, nan, nan, nan)   \n\n                                                           17.5_y  \\\nmat                                                                 \nNH2-MIL-53(Al)  (1.245439104424013, 5.848671679969831, 2.63072...   \nZeolite Na-LSX  (6.202771916697657, 5.889036678876907, 6.35379...   \nCuBTC           (1.3189975950894874, nan, nan, nan, nan, nan, ...   \nZIF-8           (4.306015314854524, 4.305139707, 3.86098574287...   \nED-ZIF-8        (5.4182714515625, 8.703103916102563, 7.4228473...   \n...                                                           ...   \nIH3                                                        (nan,)   \nNOS-A94                                           (nan, nan, nan)   \nNKb-A82                                      (nan, nan, nan, nan)   \nNka-A82                                           (nan, nan, nan)   \nBPL                                          (nan, nan, nan, nan)   \n\n                                                           18.0_y  \\\nmat                                                                 \nNH2-MIL-53(Al)  (1.2611606932465462, 9.123215310594382, 2.6600...   \nZeolite Na-LSX  (6.208986122722202, 5.895249955187802, 6.35449...   \nCuBTC           (1.350616095759337, nan, nan, nan, nan, nan, n...   \nZIF-8           (4.345126718863731, 4.350584707, 3.90912473854...   \nED-ZIF-8        (5.510582389062501, 8.790495710974358, 7.54519...   \n...                                                           ...   \nIH3                                                        (nan,)   \nNOS-A94                                           (nan, nan, nan)   \nNKb-A82                                      (nan, nan, nan, nan)   \nNka-A82                                           (nan, nan, nan)   \nBPL                                          (nan, nan, nan, nan)   \n\n                                                           18.5_y  \\\nmat                                                                 \nNH2-MIL-53(Al)  (1.2768822820690793, 8.425902437847617, 2.6893...   \nZeolite Na-LSX  (6.215200328746746, 5.901463231498699, 6.35537...   \nCuBTC           (1.3792836752636375, nan, nan, nan, nan, nan, ...   \nZIF-8           (4.3842381228729375, 4.396029707, 3.9572637342...   \nED-ZIF-8        (5.603582532352942, 8.877887505846154, 7.66754...   \n...                                                           ...   \nIH3                                                        (nan,)   \nNOS-A94                                           (nan, nan, nan)   \nNKb-A82                                      (nan, nan, nan, nan)   \nNka-A82                                           (nan, nan, nan)   \nBPL                                          (nan, nan, nan, nan)   \n\n                                                           19.0_y  \\\nmat                                                                 \nNH2-MIL-53(Al)  (1.2926038708916125, 7.728589565100849, 2.7186...   \nZeolite Na-LSX  (6.221414534771291, 5.907676507809595, 6.36282...   \nCuBTC           (1.407951254767938, nan, nan, nan, nan, nan, n...   \nZIF-8           (4.423349526882144, 4.441474707, 4.00540272987...   \nED-ZIF-8        (5.6971442970588235, 8.965279300717949, 7.7898...   \n...                                                           ...   \nIH3                                                        (nan,)   \nNOS-A94                                           (nan, nan, nan)   \nNKb-A82                                      (nan, nan, nan, nan)   \nNka-A82                                           (nan, nan, nan)   \nBPL                                          (nan, nan, nan, nan)   \n\n                                                           19.5_y  \\\nmat                                                                 \nNH2-MIL-53(Al)  (1.3083254597141458, 7.82355594934654, 2.82575...   \nZeolite Na-LSX  (6.227628740795835, 5.913889784120491, 6.37027...   \nCuBTC           (1.4366188342722386, nan, nan, nan, nan, nan, ...   \nZIF-8           (4.462460930891351, 4.486919707, 4.05354172554...   \nED-ZIF-8        (5.790706061764706, 9.052671095589744, 7.91224...   \n...                                                           ...   \nIH3                                                        (nan,)   \nNOS-A94                                           (nan, nan, nan)   \nNKb-A82                                      (nan, nan, nan, nan)   \nNka-A82                                           (nan, nan, nan)   \nBPL                                          (nan, nan, nan, nan)   \n\n                                                           20.0_y  \nmat                                                                \nNH2-MIL-53(Al)  (1.3219865096562438, 8.743139519441515, 2.9523...  \nZeolite Na-LSX  (6.2338429468203795, 5.920103060431387, 6.3777...  \nCuBTC           (1.4693190921934272, nan, nan, nan, nan, nan, ...  \nZIF-8           (4.501572334900557, 4.532364707, 4.10082996013...  \nED-ZIF-8        (5.879993563076924, 9.139618543557784, 8.03114...  \n...                                                           ...  \nIH3                                                        (nan,)  \nNOS-A94                                           (nan, nan, nan)  \nNKb-A82                                      (nan, nan, nan, nan)  \nNka-A82                                           (nan, nan, nan)  \nBPL                                          (nan, nan, nan, nan)  \n\n[352 rows x 84 columns]"
     },
     "execution_count": 61,
     "metadata": {},
     "output_type": "execute_result"
    }
   ],
   "source": [
    "# import time\n",
    "# start_time = time.time()\n",
    "# print(\"--- %s seconds ---\" % (time.time() - start_time))\n",
    "\n",
    "# g1 = dft[dft['ads'] == 'nitrogen'].drop(\n",
    "#             ['type', 't', 'ads'], axis=1).reset_index().groupby('mat').agg(lambda x: tuple(x))\n",
    "# g2 = dft[dft['ads'] == 'carbon dioxide'].drop(\n",
    "#             ['type', 't', 'ads'], axis=1).reset_index().groupby('mat').agg(lambda x: tuple(x))\n",
    "\n",
    "pd.merge(dft[dft['ads'] == 'nitrogen'].drop(\n",
    "            ['type', 't', 'ads'], axis=1).reset_index().groupby('mat', sort=False).agg(lambda x: tuple(x)),\n",
    "         dft[dft['ads'] == 'carbon dioxide'].drop(\n",
    "            ['type', 't', 'ads'], axis=1).reset_index().groupby('mat', sort=False).agg(lambda x: tuple(x)), \n",
    "            on=('mat'), suffixes=('_x', '_y'))"
   ]
  },
  {
   "cell_type": "code",
   "execution_count": 19,
   "metadata": {},
   "outputs": [
    {
     "data": {
      "text/html": "<div>\n<style scoped>\n    .dataframe tbody tr th:only-of-type {\n        vertical-align: middle;\n    }\n\n    .dataframe tbody tr th {\n        vertical-align: top;\n    }\n\n    .dataframe thead th {\n        text-align: right;\n    }\n</style>\n<table border=\"1\" class=\"dataframe\">\n  <thead>\n    <tr style=\"text-align: right;\">\n      <th></th>\n      <th>index</th>\n      <th>mat</th>\n      <th>kH</th>\n      <th>0.5</th>\n      <th>1.0</th>\n      <th>1.5</th>\n      <th>2.0</th>\n      <th>2.5</th>\n      <th>3.0</th>\n      <th>3.5</th>\n      <th>...</th>\n      <th>15.5</th>\n      <th>16.0</th>\n      <th>16.5</th>\n      <th>17.0</th>\n      <th>17.5</th>\n      <th>18.0</th>\n      <th>18.5</th>\n      <th>19.0</th>\n      <th>19.5</th>\n      <th>20.0</th>\n    </tr>\n  </thead>\n  <tbody>\n    <tr>\n      <th>3</th>\n      <td>10.1002Aic.10306.Isotherm2</td>\n      <td>Zeolite Na-LSX</td>\n      <td>0.253689</td>\n      <td>0.126845</td>\n      <td>NaN</td>\n      <td>0.444886</td>\n      <td>0.541667</td>\n      <td>0.675821</td>\n      <td>0.847348</td>\n      <td>0.953219</td>\n      <td>...</td>\n      <td>2.312311</td>\n      <td>2.342426</td>\n      <td>2.372540</td>\n      <td>2.402654</td>\n      <td>2.432769</td>\n      <td>2.462883</td>\n      <td>2.490471</td>\n      <td>2.515532</td>\n      <td>2.540594</td>\n      <td>2.565656</td>\n    </tr>\n    <tr>\n      <th>11</th>\n      <td>10.1002Aic.13970.isotherm20</td>\n      <td>ZIF-8</td>\n      <td>0.185722</td>\n      <td>0.061258</td>\n      <td>0.110675</td>\n      <td>0.192545</td>\n      <td>0.287718</td>\n      <td>0.382891</td>\n      <td>0.478064</td>\n      <td>0.583785</td>\n      <td>...</td>\n      <td>2.891658</td>\n      <td>2.984815</td>\n      <td>3.077973</td>\n      <td>3.171131</td>\n      <td>3.264289</td>\n      <td>3.357447</td>\n      <td>3.450605</td>\n      <td>3.543763</td>\n      <td>3.636921</td>\n      <td>3.730078</td>\n    </tr>\n    <tr>\n      <th>15</th>\n      <td>10.1002Aic.13970.isotherm39</td>\n      <td>ZIF-8</td>\n      <td>0.203484</td>\n      <td>0.101742</td>\n      <td>0.203484</td>\n      <td>0.190959</td>\n      <td>0.305698</td>\n      <td>0.421743</td>\n      <td>0.538568</td>\n      <td>0.651368</td>\n      <td>...</td>\n      <td>3.127186</td>\n      <td>3.232811</td>\n      <td>3.338436</td>\n      <td>3.444062</td>\n      <td>3.549687</td>\n      <td>3.655312</td>\n      <td>3.762221</td>\n      <td>3.869311</td>\n      <td>3.976401</td>\n      <td>4.083491</td>\n    </tr>\n    <tr>\n      <th>23</th>\n      <td>10.1002Aic.14467.Isotherm33</td>\n      <td>ZIF-8</td>\n      <td>0.126984</td>\n      <td>0.061243</td>\n      <td>NaN</td>\n      <td>NaN</td>\n      <td>NaN</td>\n      <td>NaN</td>\n      <td>NaN</td>\n      <td>NaN</td>\n      <td>...</td>\n      <td>NaN</td>\n      <td>NaN</td>\n      <td>NaN</td>\n      <td>NaN</td>\n      <td>NaN</td>\n      <td>NaN</td>\n      <td>NaN</td>\n      <td>NaN</td>\n      <td>NaN</td>\n      <td>NaN</td>\n    </tr>\n    <tr>\n      <th>28</th>\n      <td>10.1002anie.201105966.Isotherm12</td>\n      <td>Cu-TDPAT</td>\n      <td>0.296617</td>\n      <td>0.192527</td>\n      <td>0.389750</td>\n      <td>NaN</td>\n      <td>NaN</td>\n      <td>NaN</td>\n      <td>NaN</td>\n      <td>NaN</td>\n      <td>...</td>\n      <td>NaN</td>\n      <td>NaN</td>\n      <td>NaN</td>\n      <td>NaN</td>\n      <td>NaN</td>\n      <td>NaN</td>\n      <td>NaN</td>\n      <td>NaN</td>\n      <td>NaN</td>\n      <td>NaN</td>\n    </tr>\n    <tr>\n      <th>...</th>\n      <td>...</td>\n      <td>...</td>\n      <td>...</td>\n      <td>...</td>\n      <td>...</td>\n      <td>...</td>\n      <td>...</td>\n      <td>...</td>\n      <td>...</td>\n      <td>...</td>\n      <td>...</td>\n      <td>...</td>\n      <td>...</td>\n      <td>...</td>\n      <td>...</td>\n      <td>...</td>\n      <td>...</td>\n      <td>...</td>\n      <td>...</td>\n      <td>...</td>\n      <td>...</td>\n    </tr>\n    <tr>\n      <th>779</th>\n      <td>10.1039c4dt03183k.Isotherm5</td>\n      <td>ZrFA</td>\n      <td>0.100521</td>\n      <td>0.049143</td>\n      <td>0.092330</td>\n      <td>NaN</td>\n      <td>NaN</td>\n      <td>NaN</td>\n      <td>NaN</td>\n      <td>NaN</td>\n      <td>...</td>\n      <td>NaN</td>\n      <td>NaN</td>\n      <td>NaN</td>\n      <td>NaN</td>\n      <td>NaN</td>\n      <td>NaN</td>\n      <td>NaN</td>\n      <td>NaN</td>\n      <td>NaN</td>\n      <td>NaN</td>\n    </tr>\n    <tr>\n      <th>819</th>\n      <td>10.1039c5cp07422c.Isotherm27</td>\n      <td>CMK-5</td>\n      <td>0.039727</td>\n      <td>0.019863</td>\n      <td>0.040205</td>\n      <td>0.045359</td>\n      <td>0.062944</td>\n      <td>0.094750</td>\n      <td>0.126556</td>\n      <td>0.152174</td>\n      <td>...</td>\n      <td>0.629078</td>\n      <td>0.643221</td>\n      <td>0.657365</td>\n      <td>0.671508</td>\n      <td>0.688384</td>\n      <td>0.705660</td>\n      <td>0.722935</td>\n      <td>0.740210</td>\n      <td>0.757485</td>\n      <td>0.774761</td>\n    </tr>\n    <tr>\n      <th>835</th>\n      <td>10.1039c6cp06036f.Isotherm12</td>\n      <td>ZIF-78</td>\n      <td>0.140280</td>\n      <td>0.072765</td>\n      <td>0.149699</td>\n      <td>0.226633</td>\n      <td>0.303567</td>\n      <td>0.379282</td>\n      <td>0.454541</td>\n      <td>0.529800</td>\n      <td>...</td>\n      <td>1.842155</td>\n      <td>1.882866</td>\n      <td>1.923577</td>\n      <td>1.964288</td>\n      <td>2.001830</td>\n      <td>2.035939</td>\n      <td>2.070048</td>\n      <td>2.104158</td>\n      <td>NaN</td>\n      <td>NaN</td>\n    </tr>\n    <tr>\n      <th>850</th>\n      <td>10.108008927022.2011.583648.isotherm12</td>\n      <td>ZIF-79</td>\n      <td>0.260171</td>\n      <td>0.136525</td>\n      <td>0.254895</td>\n      <td>NaN</td>\n      <td>NaN</td>\n      <td>NaN</td>\n      <td>NaN</td>\n      <td>NaN</td>\n      <td>...</td>\n      <td>NaN</td>\n      <td>NaN</td>\n      <td>NaN</td>\n      <td>NaN</td>\n      <td>NaN</td>\n      <td>NaN</td>\n      <td>NaN</td>\n      <td>NaN</td>\n      <td>NaN</td>\n      <td>NaN</td>\n    </tr>\n    <tr>\n      <th>879</th>\n      <td>10.8888Ie200652e.isotherm4</td>\n      <td>Zeolite 5A</td>\n      <td>0.613339</td>\n      <td>0.301699</td>\n      <td>0.480193</td>\n      <td>0.651351</td>\n      <td>0.789336</td>\n      <td>0.895362</td>\n      <td>1.000772</td>\n      <td>1.102746</td>\n      <td>...</td>\n      <td>NaN</td>\n      <td>NaN</td>\n      <td>NaN</td>\n      <td>NaN</td>\n      <td>NaN</td>\n      <td>NaN</td>\n      <td>NaN</td>\n      <td>NaN</td>\n      <td>NaN</td>\n      <td>NaN</td>\n    </tr>\n  </tbody>\n</table>\n<p>75 rows × 43 columns</p>\n</div>",
      "text/plain": "                                      index             mat        kH  \\\n3                10.1002Aic.10306.Isotherm2  Zeolite Na-LSX  0.253689   \n11              10.1002Aic.13970.isotherm20           ZIF-8  0.185722   \n15              10.1002Aic.13970.isotherm39           ZIF-8  0.203484   \n23              10.1002Aic.14467.Isotherm33           ZIF-8  0.126984   \n28         10.1002anie.201105966.Isotherm12        Cu-TDPAT  0.296617   \n..                                      ...             ...       ...   \n779             10.1039c4dt03183k.Isotherm5            ZrFA  0.100521   \n819            10.1039c5cp07422c.Isotherm27           CMK-5  0.039727   \n835            10.1039c6cp06036f.Isotherm12          ZIF-78  0.140280   \n850  10.108008927022.2011.583648.isotherm12          ZIF-79  0.260171   \n879              10.8888Ie200652e.isotherm4      Zeolite 5A  0.613339   \n\n          0.5       1.0       1.5       2.0       2.5       3.0       3.5  \\\n3    0.126845       NaN  0.444886  0.541667  0.675821  0.847348  0.953219   \n11   0.061258  0.110675  0.192545  0.287718  0.382891  0.478064  0.583785   \n15   0.101742  0.203484  0.190959  0.305698  0.421743  0.538568  0.651368   \n23   0.061243       NaN       NaN       NaN       NaN       NaN       NaN   \n28   0.192527  0.389750       NaN       NaN       NaN       NaN       NaN   \n..        ...       ...       ...       ...       ...       ...       ...   \n779  0.049143  0.092330       NaN       NaN       NaN       NaN       NaN   \n819  0.019863  0.040205  0.045359  0.062944  0.094750  0.126556  0.152174   \n835  0.072765  0.149699  0.226633  0.303567  0.379282  0.454541  0.529800   \n850  0.136525  0.254895       NaN       NaN       NaN       NaN       NaN   \n879  0.301699  0.480193  0.651351  0.789336  0.895362  1.000772  1.102746   \n\n     ...      15.5      16.0      16.5      17.0      17.5      18.0  \\\n3    ...  2.312311  2.342426  2.372540  2.402654  2.432769  2.462883   \n11   ...  2.891658  2.984815  3.077973  3.171131  3.264289  3.357447   \n15   ...  3.127186  3.232811  3.338436  3.444062  3.549687  3.655312   \n23   ...       NaN       NaN       NaN       NaN       NaN       NaN   \n28   ...       NaN       NaN       NaN       NaN       NaN       NaN   \n..   ...       ...       ...       ...       ...       ...       ...   \n779  ...       NaN       NaN       NaN       NaN       NaN       NaN   \n819  ...  0.629078  0.643221  0.657365  0.671508  0.688384  0.705660   \n835  ...  1.842155  1.882866  1.923577  1.964288  2.001830  2.035939   \n850  ...       NaN       NaN       NaN       NaN       NaN       NaN   \n879  ...       NaN       NaN       NaN       NaN       NaN       NaN   \n\n         18.5      19.0      19.5      20.0  \n3    2.490471  2.515532  2.540594  2.565656  \n11   3.450605  3.543763  3.636921  3.730078  \n15   3.762221  3.869311  3.976401  4.083491  \n23        NaN       NaN       NaN       NaN  \n28        NaN       NaN       NaN       NaN  \n..        ...       ...       ...       ...  \n779       NaN       NaN       NaN       NaN  \n819  0.722935  0.740210  0.757485  0.774761  \n835  2.070048  2.104158       NaN       NaN  \n850       NaN       NaN       NaN       NaN  \n879       NaN       NaN       NaN       NaN  \n\n[75 rows x 43 columns]"
     },
     "execution_count": 19,
     "metadata": {},
     "output_type": "execute_result"
    }
   ],
   "source": [
    "q1 = 0.4\n",
    "q2 = 0.6\n",
    "res = g1.groupby(\"mat\")[\"kH\"].quantile([q1, q2]).unstack(level=1)\n",
    "g1.loc[ ((res.loc[g1['mat'], q1] < g1['kH'].values) & (g1['kH'].values < res.loc[g1['mat'], q2])).values]"
   ]
  },
  {
   "cell_type": "code",
   "execution_count": null,
   "metadata": {},
   "outputs": [],
   "source": [
    "\n",
    "# Computing IQR\n",
    "Q1 = df['nb'].quantile(0.25)\n",
    "Q3 = df['nb'].quantile(0.75)\n",
    "IQR = Q3 - Q1\n",
    "\n",
    "# Filtering Values between Q1-1.5IQR and Q3+1.5IQR\n",
    "filtered = df.query('(@Q1 - 1.5 * @IQR) <= nb <= (@Q3 + 1.5 * @IQR)')\n",
    "\n"
   ]
  },
  {
   "cell_type": "markdown",
   "metadata": {},
   "source": [
    "## Old methods\n",
    "Construct dictionary with results on a material basis."
   ]
  },
  {
   "cell_type": "code",
   "execution_count": 7,
   "metadata": {},
   "outputs": [],
   "source": [
    "materials = {}\n",
    "\n",
    "gases = [\n",
    "    'hydrogen', 'neon', 'argon', 'krypton', 'xenon',\n",
    "    'methane', 'ethane', 'ethene', 'acetylene',\n",
    "    'propane', 'propene',\n",
    "    'butane', 'isobutane',\n",
    "    '1-butene', 'cis-2-butene', 'trans-2-butene',\n",
    "    'isobutene',\n",
    "    'isopentane',\n",
    "    'carbon dioxide', 'sulphur dioxide', 'nitrogen dioxide',\n",
    "    'oxygen', 'carbon monoxide', 'nitrogen',\n",
    "    'benzene', 'toluene',\n",
    "    'water', 'methanol', 'ethanol', 'ammonia',\n",
    "]\n",
    "\n",
    "for mat in Counter([i.material for i in isotherms]).keys():\n",
    "    materials[mat] = {\n",
    "        gas: {\n",
    "            'iso': [],\n",
    "            'Kh': [],\n",
    "            'L': []\n",
    "        } for gas in gases}\n",
    "\n",
    "for iso in isotherms:\n",
    "    materials[iso.material][iso.adsorbate]['iso'].append(iso.filename)\n",
    "    materials[iso.material][iso.adsorbate]['Kh'].append(iso.henry_slope)\n",
    "    materials[iso.material][iso.adsorbate]['L'].append(iso.uptake)"
   ]
  },
  {
   "cell_type": "markdown",
   "metadata": {},
   "source": [
    "Some outlier detection functions to be used later: gross outlier detection and interquartile outlier detection."
   ]
  },
  {
   "cell_type": "code",
   "execution_count": 8,
   "metadata": {},
   "outputs": [],
   "source": [
    "def kh_gross_outlier_rejection(a, l1=1e-7, l2=1e7):\n",
    "    return [i for i in a if l1 < i < l2 and not np.isnan(i)]\n",
    "\n",
    "\n",
    "def l_gross_outlier_rejection(a, l1=0, l2=1e7):\n",
    "    return [i for i in a if l1 <= i < l2 and not np.isnan(i)]\n",
    "\n",
    "\n",
    "def iqr_outlier_rejection(arr):\n",
    "    q75, q25 = np.nanpercentile(sorted(arr), [75, 25], interpolation='linear')\n",
    "    iqr = q75 - q25\n",
    "    l_b = q25 - (1.5 * iqr)\n",
    "    u_b = q75 + (1.5 * iqr)\n",
    "    return [a for a in arr if a > l_b and a < u_b]"
   ]
  },
  {
   "cell_type": "markdown",
   "metadata": {},
   "source": [
    "Outlier detection and median calculation for Henry constant."
   ]
  },
  {
   "cell_type": "code",
   "execution_count": 9,
   "metadata": {},
   "outputs": [],
   "source": [
    "for mat in materials:\n",
    "    for gas in gases:\n",
    "        K_hs = materials[mat][gas].get('Kh', None)\n",
    "        if K_hs is None:\n",
    "            materials[mat][gas]['mKh'] = np.nan\n",
    "            materials[mat][gas]['eKh'] = np.nan\n",
    "            materials[mat][gas]['lKh'] = np.nan\n",
    "\n",
    "        K_hs = kh_gross_outlier_rejection(K_hs)\n",
    "\n",
    "        if K_hs is None:\n",
    "            materials[mat][gas]['mKh'] = np.nan\n",
    "            materials[mat][gas]['eKh'] = np.nan\n",
    "            materials[mat][gas]['lKh'] = np.nan\n",
    "\n",
    "        nK_h = len(K_hs)\n",
    "        if nK_h == 0:\n",
    "            continue\n",
    "\n",
    "        if nK_h > 4:\n",
    "            K_hs = iqr_outlier_rejection(K_hs)\n",
    "            mK_h = np.median(K_hs)\n",
    "            eK_h = np.std(K_hs)\n",
    "        elif nK_h == 1:\n",
    "            mK_h = np.median(K_hs)\n",
    "            eK_h = 0\n",
    "        else:\n",
    "            mK_h = np.median(K_hs)\n",
    "            eK_h = np.std(K_hs)\n",
    "\n",
    "        materials[mat][gas]['mKh'] = mK_h\n",
    "        materials[mat][gas]['eKh'] = eK_h\n",
    "        materials[mat][gas]['lKh'] = nK_h"
   ]
  },
  {
   "cell_type": "markdown",
   "metadata": {},
   "source": [
    "Outlier detection and median calculation for uptake."
   ]
  },
  {
   "cell_type": "code",
   "execution_count": 10,
   "metadata": {},
   "outputs": [],
   "source": [
    "for mat in materials:\n",
    "    for gas in gases:\n",
    "\n",
    "        aL_s = materials[mat][gas].get('L', None)\n",
    "        if not aL_s:\n",
    "            materials[mat][gas]['mL'] = []\n",
    "            materials[mat][gas]['eL'] = []\n",
    "            materials[mat][gas]['lL'] = []\n",
    "            continue\n",
    "\n",
    "        pdL_s = pd.DataFrame(aL_s)\n",
    "\n",
    "        materials[mat][gas]['mL'] = [0]\n",
    "        materials[mat][gas]['eL'] = [0]\n",
    "        materials[mat][gas]['lL'] = [0]\n",
    "\n",
    "        for p in np.arange(0.5, 20.5, 0.5):\n",
    "            try:\n",
    "                L_s = l_gross_outlier_rejection(pdL_s[p])\n",
    "                if L_s is None:\n",
    "                    continue\n",
    "            except Exception:\n",
    "                continue\n",
    "\n",
    "            nL_s = len(L_s)\n",
    "            if nL_s == 0:\n",
    "                materials[mat][gas]['mL'].append(np.nan)\n",
    "                materials[mat][gas]['eL'].append(np.nan)\n",
    "                materials[mat][gas]['lL'].append(np.nan)\n",
    "                continue\n",
    "\n",
    "            if nL_s > 4:\n",
    "                L_s = iqr_outlier_rejection(L_s)\n",
    "                mL_s = np.median(L_s)\n",
    "                eL_s = np.std(L_s)\n",
    "            elif nL_s == 1:\n",
    "                mL_s = np.median(L_s)\n",
    "                eL_s = 0\n",
    "            else:\n",
    "                mL_s = np.median(L_s)\n",
    "                eL_s = np.std(L_s)\n",
    "\n",
    "            materials[mat][gas]['mL'].append(mL_s)\n",
    "            materials[mat][gas]['eL'].append(eL_s)\n",
    "            materials[mat][gas]['lL'].append(nL_s)"
   ]
  },
  {
   "cell_type": "markdown",
   "metadata": {},
   "source": [
    "Save the resulting json file."
   ]
  },
  {
   "cell_type": "code",
   "execution_count": 11,
   "metadata": {},
   "outputs": [],
   "source": [
    "save_path = r\"./data/kpis.json\"\n",
    "with open(save_path, 'w') as file:\n",
    "    json.dump(materials, file)"
   ]
  },
  {
   "cell_type": "code",
   "execution_count": null,
   "metadata": {},
   "outputs": [],
   "source": []
  }
 ],
 "metadata": {
  "file_extension": ".py",
  "kernelspec": {
   "display_name": "Python 3",
   "language": "python",
   "name": "python3"
  },
  "language_info": {
   "codemirror_mode": {
    "name": "ipython",
    "version": 3
   },
   "file_extension": ".py",
   "mimetype": "text/x-python",
   "name": "python",
   "nbconvert_exporter": "python",
   "pygments_lexer": "ipython3",
   "version": "3.7.5"
  },
  "mimetype": "text/x-python",
  "name": "python",
  "npconvert_exporter": "python",
  "pygments_lexer": "ipython3",
  "version": 3
 },
 "nbformat": 4,
 "nbformat_minor": 2
}